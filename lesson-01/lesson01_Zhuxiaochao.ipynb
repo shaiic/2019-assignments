{
 "cells": [
  {
   "cell_type": "markdown",
   "metadata": {},
   "source": [
    "# 2019-05-25课后作业"
   ]
  },
  {
   "cell_type": "markdown",
   "metadata": {},
   "source": [
    "- 题目1：\n",
    "- 有两个排好序的数组，如[1,3,4,9…]和[2,4,8…]。写一个算法把这两个数组合并，合并后的数组仍然是排好序的，如[1,2,3,4,4,8,9…]. 要求O(n)算法复杂度"
   ]
  },
  {
   "cell_type": "code",
   "execution_count": 260,
   "metadata": {},
   "outputs": [
    {
     "name": "stdout",
     "output_type": "stream",
     "text": [
      "数组1：[7, 37, 42, 61, 62, 76, 77, 81, 93, 98]\n",
      "数组2：[3, 25, 43, 45, 57, 62, 67, 77, 80, 88]\n",
      "总执行次数：20\n",
      "合并后的数组为：[3, 7, 25, 37, 42, 43, 45, 57, 61, 62, 62, 67, 76, 77, 77, 80, 81, 88, 93, 98]\n"
     ]
    }
   ],
   "source": [
    ">>> import random\n",
    "#获取一个排好序的随机数组\n",
    "def getRandomSortedInitList(): \n",
    "    randomist=random.choices(range(1,100),k=10,weights=range(1,100))\n",
    "    randomist.sort()\n",
    "    return randomist\n",
    "################################################################\n",
    "#O(n)算法复杂度的算法\n",
    "def mySortFuc(list1,list2): \n",
    "    retultList=[]\n",
    "    #i为list1数组下标\n",
    "    i=0\n",
    "    #j为list2数组下标\n",
    "    j=0\n",
    "    #k为总执行次数\n",
    "    k=0\n",
    "    #按位循环比较两个数组，较小元素的放入新数组，下标加一（注意，较大元素对应的下标不加一），直到某一个下标等于数组长度时退出循环\n",
    "    while i<len(list1) and j<len(list2):\n",
    "        if(list1[i] <= list2[j]): \n",
    "            #retultList[k]=list1[i]\n",
    "            retultList.append(list1[i])\n",
    "            k+=1\n",
    "            i+=1\n",
    "            #print(retultList)\n",
    "        else:\n",
    "            #retultList[k]=list2[j]\n",
    "            retultList.append(list2[j])\n",
    "            k+=1\n",
    "            j+=1\n",
    "            #print(retultList)\n",
    "    #后面两个while循环是用来保证两个数组比较完之后剩下的一个数组里的元素能顺利传入 \n",
    "    #此时较短数组已经全部放入新数组，较长数组还有部分剩余，最后将剩下的部分元素放入新数组\n",
    "    while i<len(list1):\n",
    "        #retultList[k]=list1[i]\n",
    "        retultList.append(list1[i])\n",
    "        k+=1\n",
    "        i+=1        \n",
    "    while j<len(list2):\n",
    "        #retultList[k]=list2[j]\n",
    "        retultList.append(list2[j])\n",
    "        k+=1\n",
    "        j+=1\n",
    "    print(\"总执行次数：\"+str(k))\n",
    "    return retultList;\n",
    "\n",
    "#####################################################################\n",
    "randomList1=getRandomSortedInitList()\n",
    "print(\"数组1：\"+str(randomList1))\n",
    "randomList2=getRandomSortedInitList()\n",
    "print(\"数组2：\"+str(randomList2))\n",
    "resultList=mySortFuc(randomList1,randomList2)\n",
    "print(\"合并后的数组为：\"+str(resultList))"
   ]
  },
  {
   "cell_type": "markdown",
   "metadata": {},
   "source": [
    "- 题目2：\n",
    "- 有一个数组，[0,100]，共101个单元，存放着0~100一共101个整数。把0替换成从[1,100]中随机的一个并打乱数组顺序。请用至少2种办法找出这个数字。"
   ]
  },
  {
   "cell_type": "code",
   "execution_count": 158,
   "metadata": {},
   "outputs": [
    {
     "name": "stdout",
     "output_type": "stream",
     "text": [
      "############################################################################################\n",
      "1.原始数组mylist[0,100]：\n",
      "[0, 1, 2, 3, 4, 5, 6, 7, 8, 9, 10, 11, 12, 13, 14, 15, 16, 17, 18, 19, 20, 21, 22, 23, 24, 25, 26, 27, 28, 29, 30, 31, 32, 33, 34, 35, 36, 37, 38, 39, 40, 41, 42, 43, 44, 45, 46, 47, 48, 49, 50, 51, 52, 53, 54, 55, 56, 57, 58, 59, 60, 61, 62, 63, 64, 65, 66, 67, 68, 69, 70, 71, 72, 73, 74, 75, 76, 77, 78, 79, 80, 81, 82, 83, 84, 85, 86, 87, 88, 89, 90, 91, 92, 93, 94, 95, 96, 97, 98, 99, 100]\n",
      "2.把mylist[0]替换成从copylist[1,100]中随机的一个后的mylist[0,100]：\n",
      "[55, 1, 2, 3, 4, 5, 6, 7, 8, 9, 10, 11, 12, 13, 14, 15, 16, 17, 18, 19, 20, 21, 22, 23, 24, 25, 26, 27, 28, 29, 30, 31, 32, 33, 34, 35, 36, 37, 38, 39, 40, 41, 42, 43, 44, 45, 46, 47, 48, 49, 50, 51, 52, 53, 54, 55, 56, 57, 58, 59, 60, 61, 62, 63, 64, 65, 66, 67, 68, 69, 70, 71, 72, 73, 74, 75, 76, 77, 78, 79, 80, 81, 82, 83, 84, 85, 86, 87, 88, 89, 90, 91, 92, 93, 94, 95, 96, 97, 98, 99, 100]\n",
      "3.把0替换成从[1,100]中随机的一个并打乱数组顺序后的mylist[0,100]：\n",
      "[47, 57, 8, 21, 74, 17, 86, 58, 10, 56, 89, 65, 96, 55, 39, 51, 23, 35, 84, 95, 42, 31, 91, 2, 33, 45, 62, 18, 7, 46, 76, 81, 70, 16, 38, 28, 60, 85, 1, 24, 83, 80, 61, 12, 49, 6, 87, 97, 26, 52, 5, 94, 34, 11, 66, 22, 59, 69, 25, 90, 72, 15, 54, 88, 40, 71, 53, 32, 20, 55, 29, 9, 14, 37, 63, 48, 13, 73, 27, 3, 4, 19, 98, 79, 67, 92, 50, 44, 100, 64, 75, 78, 36, 77, 99, 43, 93, 41, 68, 30, 82]\n",
      "用方法1查找出来的结果是：55\n",
      "############################################################################################\n",
      "1.原始数组mylist[0,100]：\n",
      "[0, 1, 2, 3, 4, 5, 6, 7, 8, 9, 10, 11, 12, 13, 14, 15, 16, 17, 18, 19, 20, 21, 22, 23, 24, 25, 26, 27, 28, 29, 30, 31, 32, 33, 34, 35, 36, 37, 38, 39, 40, 41, 42, 43, 44, 45, 46, 47, 48, 49, 50, 51, 52, 53, 54, 55, 56, 57, 58, 59, 60, 61, 62, 63, 64, 65, 66, 67, 68, 69, 70, 71, 72, 73, 74, 75, 76, 77, 78, 79, 80, 81, 82, 83, 84, 85, 86, 87, 88, 89, 90, 91, 92, 93, 94, 95, 96, 97, 98, 99, 100]\n",
      "2.把mylist[0]替换成从copylist[1,100]中随机的一个后的mylist[0,100]：\n",
      "[43, 1, 2, 3, 4, 5, 6, 7, 8, 9, 10, 11, 12, 13, 14, 15, 16, 17, 18, 19, 20, 21, 22, 23, 24, 25, 26, 27, 28, 29, 30, 31, 32, 33, 34, 35, 36, 37, 38, 39, 40, 41, 42, 43, 44, 45, 46, 47, 48, 49, 50, 51, 52, 53, 54, 55, 56, 57, 58, 59, 60, 61, 62, 63, 64, 65, 66, 67, 68, 69, 70, 71, 72, 73, 74, 75, 76, 77, 78, 79, 80, 81, 82, 83, 84, 85, 86, 87, 88, 89, 90, 91, 92, 93, 94, 95, 96, 97, 98, 99, 100]\n",
      "3.把0替换成从[1,100]中随机的一个并打乱数组顺序后的mylist[0,100]：\n",
      "[34, 59, 27, 16, 37, 82, 14, 46, 63, 30, 61, 2, 43, 26, 41, 7, 17, 47, 86, 79, 42, 31, 73, 48, 12, 11, 65, 22, 24, 13, 98, 56, 69, 75, 18, 85, 6, 74, 5, 99, 39, 94, 51, 67, 71, 57, 70, 50, 78, 91, 43, 89, 45, 29, 32, 81, 8, 76, 83, 88, 93, 3, 80, 19, 60, 100, 33, 35, 58, 54, 21, 62, 38, 95, 87, 66, 92, 23, 90, 97, 44, 10, 84, 96, 4, 15, 36, 55, 49, 28, 77, 53, 72, 20, 1, 68, 9, 40, 25, 52, 64]\n",
      "用方法2查找出来的结果是：43\n"
     ]
    }
   ],
   "source": [
    ">>> import random\n",
    "\n",
    "################################################################\n",
    "#获取满足要求需要处理的一个随机数组\n",
    "def getRandomInitList(): \n",
    "    mylist=[]\n",
    "    i=0\n",
    "    while i<= 100:\n",
    "        mylist.append(i)\n",
    "        i+=1\n",
    "    #打印初始数组[0,100]，共101个单元，存放着0~100一共101个整数\n",
    "    print(\"1.原始数组mylist[0,100]：\")\n",
    "    print(mylist)\n",
    "    #复制mylist[1,100]]到一个新数组copylist[1,100]中\n",
    "    copylist=mylist[1:101]\n",
    "    #把mylist[0]替换成从copylist[1,100]中随机的一个\n",
    "    mylist[0]=random.choice(copylist)\n",
    "    print(\"2.把mylist[0]替换成从copylist[1,100]中随机的一个后的mylist[0,100]：\")\n",
    "    print(mylist)\n",
    "    #打乱mylist数组顺序\n",
    "    random.shuffle(mylist) \n",
    "    print(\"3.把0替换成从[1,100]中随机的一个并打乱数组顺序后的mylist[0,100]：\")\n",
    "    print(mylist)    \n",
    "    return mylist\n",
    "\n",
    "##############################第一种方法#######################################\n",
    "def findSameNum1(mylist): \n",
    "    #如果数组长度<2,则返回-1\n",
    "    if(len(mylist)<2):\n",
    "        rerurn(-1)\n",
    "    #对数组排序\n",
    "    mylist.sort()\n",
    "    i=0\n",
    "    #从头遍历数组，对前后两个进行比较，如果数值相同就是要找的数\n",
    "    while i<len(mylist):\n",
    "        if(mylist[i]==mylist[i+1]):\n",
    "            return mylist[i]\n",
    "        else: \n",
    "            i+=1\n",
    "    #没有找到相同的数，则返回-1\n",
    "    rerurn(-1)\n",
    "#############################################################################   \n",
    "\n",
    "##############################第二种方法#######################################\n",
    "def findSameNum2(mylist): \n",
    "    #如果数组长度<2,则返回-1\n",
    "    if(len(mylist)<2):\n",
    "        rerurn(-1)\n",
    "    i=0\n",
    "    #从头遍历数组\n",
    "    while i<len(mylist):\n",
    "        #print(\"查找过程中：mylist[\"+str(i)+\"]的值为\"+str(mylist[i])+\",数量为\"+str(mylist.count(mylist[i])))\n",
    "        if(mylist.count(mylist[i])>1):\n",
    "            return mylist[i]\n",
    "        else: \n",
    "            i+=1\n",
    "    #没有找到相同的数，则返回-1\n",
    "    rerurn(-1)\n",
    "#############################################################################  \n",
    "\n",
    "    \n",
    "print(\"############################################################################################\")\n",
    "mylist1=getRandomInitList()\n",
    "result1=findSameNum1(mylist1)\n",
    "print(\"用方法1查找出来的结果是：\"+str(result1))\n",
    "\n",
    "\n",
    "print(\"############################################################################################\")\n",
    "mylist2=getRandomInitList()\n",
    "result2=findSameNum2(mylist2)\n",
    "print(\"用方法2查找出来的结果是：\"+str(result2))"
   ]
  },
  {
   "attachments": {
    "image.png": {
     "image/png": "[encoded data removed]"
    }
   },
   "cell_type": "markdown",
   "metadata": {},
   "source": [
    "- 题目3：\n",
    "- 用代码实现下图：\n",
    "![image.png](attachment:image.png)"
   ]
  },
  {
   "cell_type": "code",
   "execution_count": null,
   "metadata": {},
   "outputs": [],
   "source": []
  }
 ],
 "metadata": {
  "kernelspec": {
   "display_name": "Python 3",
   "language": "python",
   "name": "python3"
  },
  "language_info": {
   "codemirror_mode": {
    "name": "ipython",
    "version": 3
   },
   "file_extension": ".py",
   "mimetype": "text/x-python",
   "name": "python",
   "nbconvert_exporter": "python",
   "pygments_lexer": "ipython3",
   "version": "3.6.5"
  }
 },
 "nbformat": 4,
 "nbformat_minor": 2
}
