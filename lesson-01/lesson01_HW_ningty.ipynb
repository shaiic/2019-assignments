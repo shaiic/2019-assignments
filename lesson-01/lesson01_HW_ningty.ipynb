{
 "cells": [
  {
   "cell_type": "code",
   "execution_count": 64,
   "metadata": {},
   "outputs": [
    {
     "data": {
      "text/plain": [
       "[1, 2, 2, 3, 3, 4, 4, 5, 5, 5, 6, 8]"
      ]
     },
     "execution_count": 64,
     "metadata": {},
     "output_type": "execute_result"
    }
   ],
   "source": [
    "# 1.有两个排好序的数组，如[1,3,4,9…]和[2,4,8…]。写一个算法把这两个数组合并，合并后的数组仍然是排好序的，\n",
    "# 如[1,2,3,4,4,8,9…]. 要求O(n)算法复杂度。\n",
    "\n",
    "def SortArray(A,B): # 定义一个返回数值为列表的函数，输入两个列表\n",
    "\n",
    "    #如果A和B 不是List 则返回一个错误提示\n",
    "    if not isinstance(A, list):    \n",
    "        print(\"参数A不是列表！\")\n",
    "    if not isinstance(B, list):\n",
    "        print(\"参数B不是列表！\")\n",
    "    \n",
    "    #先计算出两个输入列表的长度作为循环的边界条件\n",
    "    i=len(A)-1\n",
    "    j=len(B)-1\n",
    "    last=len(A)+len(B)-1\n",
    "    c=0\n",
    "    C=[]\n",
    "    \n",
    "    while c>=0 and c<=last:\n",
    "        C.append([0])\n",
    "        c = c + 1\n",
    "    \n",
    "    while i >= 0 and j >= 0:\n",
    "        if A[i] > B[j]:\n",
    "            \n",
    "            #先打印一个本次循环要计算的内容\n",
    "            #print(\"本次要对比的两个数是1：\"+ str(A[i]) + \" \" + str(B[j]))\n",
    "            #把A[i]放在C列表的最后位置\n",
    "            #print(\"我现在要把1：\"+ str(C[last]) + \" \" + str(A[i]))\n",
    "            C[last] = A[i]\n",
    "            #last = last - 1\n",
    "            i = i - 1\n",
    "            \n",
    "        else:\n",
    "            \n",
    "            #先打印一个本次循环要计算的内容\n",
    "            #print(\"本次要对比的两个数是2：\"+ str(A[i]) + \" \" + str(B[j]))\n",
    "            #把B[j]放在C列表的最后位置\n",
    "            #print(\"我现在要把2：\"+ str(C[last]) + \" \" + str(B[j]))  \n",
    "            C[last] = B[j]\n",
    "            #last = last - 1\n",
    "            j = j - 1\n",
    "            \n",
    "        last = last - 1\n",
    "        \n",
    "    if j >= 0:\n",
    "        #先打印一个本次循环要计算的内容\n",
    "        #print(\"这是本次要加入到3 \"+str(B[:j+1]))\n",
    "        C[:last+1] = B[:j+1]\n",
    "        \n",
    "    if i >= 0:\n",
    "        #先打印一个本次循环要计算的内容\n",
    "        #print(\"这是本次要加入到4 \"+str(A[:i+1]))\n",
    "        C[:last+1] = A[:i+1]\n",
    "    \n",
    "    return C\n",
    "\n",
    "#SortArray([5,4,3,2,1],[5.5,4.4,3.3,2.2])\n",
    "SortArray([1,2,3,4,5,5,8],[2,3,4,5,6])\n",
    "#SortArray([3.3,2.2,4.4,5.5,2.2],[1,2,3,4,5])\n",
    "\n"
   ]
  },
  {
   "cell_type": "code",
   "execution_count": 67,
   "metadata": {},
   "outputs": [],
   "source": [
    "#有一个数组，[0,100]，共101个单元，存放着0~100一共101个整数。\n",
    "#把0替换成从[1,100]中随机的一个并打乱数组顺序。请用至少2种办法找出这个数字。\n",
    "\n",
    "import random\n",
    "\n",
    "################################################################\n",
    "#获取满足要求需要处理的一个随机数组\n",
    "def getRandomInitList(): \n",
    "    mylist=[]\n",
    "    i=0\n",
    "    while i<= 100:\n",
    "        mylist.append(i)\n",
    "        i+=1\n",
    "    #打印初始数组[0,100]，共101个单元，存放着0~100一共101个整数\n",
    "    print(\"1.原始数组mylist[0,100]：\")\n",
    "    print(mylist)\n",
    "    #复制mylist[1,100]]到一个新数组copylist[1,100]中\n",
    "    copylist=mylist[1:101]\n",
    "    #把mylist[0]替换成从copylist[1,100]中随机的一个\n",
    "    mylist[0]=random.choice(copylist)\n",
    "    print(\"2.把mylist[0]替换成从copylist[1,100]中随机的一个后的mylist[0,100]：\")\n",
    "    print(mylist)\n",
    "    #打乱mylist数组顺序\n",
    "    random.shuffle(mylist) \n",
    "    print(\"3.把0替换成从[1,100]中随机的一个并打乱数组顺序后的mylist[0,100]：\")\n",
    "    print(mylist)    \n",
    "    return mylist\n",
    "\n",
    "##############################第一种方法#######################################\n",
    "def findSameNum1(mylist): \n",
    "    #如果数组长度<2,则返回-1\n",
    "    if(len(mylist)<2):\n",
    "        rerurn(-1)\n",
    "    #对数组排序\n",
    "    mylist.sort()\n",
    "    i=0\n",
    "    #从头遍历数组，对前后两个进行比较，如果数值相同就是要找的数\n",
    "    while i<len(mylist):\n",
    "        if(mylist[i]==mylist[i+1]):\n",
    "            return mylist[i]\n",
    "        else: \n",
    "            i+=1\n",
    "    #没有找到相同的数，则返回-1\n",
    "    rerurn(-1)\n",
    "#############################################################################   \n",
    "\n",
    "##############################第二种方法#####################################\n",
    "def findSameNum2(mylist): \n",
    "    #如果数组长度<2,则返回-1\n",
    "    if(len(mylist)<2):\n",
    "        rerurn(-1)\n",
    "    i=0\n",
    "    #从头遍历数组\n",
    "    while i<len(mylist):\n",
    "        #print(\"查找过程中：mylist[\"+str(i)+\"]的值为\"+str(mylist[i])+\",数量为\"+str(mylist.count(mylist[i])))\n",
    "        if(mylist.count(mylist[i])>1):\n",
    "            return mylist[i]\n",
    "        else: \n",
    "            i+=1\n",
    "    #没有找到相同的数，则返回-1\n",
    "    rerurn(-1)\n",
    "#############################################################################  \n",
    "\n"
   ]
  },
  {
   "cell_type": "code",
   "execution_count": 70,
   "metadata": {},
   "outputs": [
    {
     "name": "stdout",
     "output_type": "stream",
     "text": [
      "[0, 1, 2, 3, 4, 5, 6, 7, 8, 9, 10, 11, 12, 13, 14, 15, 16, 17, 18, 19, 20, 21, 22, 23, 24, 25, 26, 27, 28, 29, 30, 31, 32, 33, 34, 35, 36, 37, 38, 39, 40, 41, 42, 43, 44, 45, 46, 47, 48, 49, 50, 51, 52, 53, 54, 55, 56, 57, 58, 59, 60, 61, 62, 63, 64, 65, 66, 67, 68, 69, 70, 71, 72, 73, 74, 75, 76, 77, 78, 79, 80, 81, 82, 83, 84, 85, 86, 87, 88, 89, 90, 91, 92, 93, 94, 95, 96, 97, 98, 99, 100]\n",
      "5\n",
      "[5, 1, 2, 3, 4, 5, 6, 7, 8, 9, 10, 11, 12, 13, 14, 15, 16, 17, 18, 19, 20, 21, 22, 23, 24, 25, 26, 27, 28, 29, 30, 31, 32, 33, 34, 35, 36, 37, 38, 39, 40, 41, 42, 43, 44, 45, 46, 47, 48, 49, 50, 51, 52, 53, 54, 55, 56, 57, 58, 59, 60, 61, 62, 63, 64, 65, 66, 67, 68, 69, 70, 71, 72, 73, 74, 75, 76, 77, 78, 79, 80, 81, 82, 83, 84, 85, 86, 87, 88, 89, 90, 91, 92, 93, 94, 95, 96, 97, 98, 99, 100]\n",
      "[64, 71, 27, 69, 92, 35, 49, 2, 60, 86, 50, 98, 97, 76, 38, 39, 94, 78, 53, 26, 30, 5, 17, 82, 7, 11, 72, 5, 75, 59, 31, 81, 28, 58, 41, 56, 100, 40, 87, 85, 33, 88, 55, 65, 83, 96, 12, 44, 63, 4, 13, 37, 57, 73, 90, 99, 3, 51, 70, 1, 23, 54, 84, 16, 79, 34, 32, 47, 95, 42, 6, 43, 19, 20, 36, 22, 9, 67, 93, 21, 61, 18, 10, 77, 62, 46, 89, 91, 15, 48, 68, 66, 45, 29, 74, 25, 52, 80, 24, 8, 14]\n",
      "5\n"
     ]
    }
   ],
   "source": [
    "a = list(range(101))   #创建0-100的数组\n",
    "print(a)                    \n",
    "import random          #导入random函数\n",
    "i = random.randint(1,100)  #取随机数\n",
    "print(i)\n",
    "a[0] = a[i]            #替换0\n",
    "print(a)\n",
    "random.shuffle(a)      #随机打乱\n",
    "print(a)\n",
    "\n",
    "list.sort(a)           #做sort\n",
    "while len(a) > 1:      #循环条件，list a的长度大于1\n",
    "    if a[0] == a[1]:   #判断第一、第二个元素是否相等\n",
    "        print(a[0])   \n",
    "        break          #如果相等，打断循环\n",
    "    else:\n",
    "        del a[0]       #如果不相等，去掉第一个元素，重新循环"
   ]
  },
  {
   "cell_type": "code",
   "execution_count": 71,
   "metadata": {},
   "outputs": [
    {
     "name": "stdout",
     "output_type": "stream",
     "text": [
      "[0, 1, 2, 3, 4, 5, 6, 7, 8, 9, 10, 11, 12, 13, 14, 15, 16, 17, 18, 19, 20, 21, 22, 23, 24, 25, 26, 27, 28, 29, 30, 31, 32, 33, 34, 35, 36, 37, 38, 39, 40, 41, 42, 43, 44, 45, 46, 47, 48, 49, 50, 51, 52, 53, 54, 55, 56, 57, 58, 59, 60, 61, 62, 63, 64, 65, 66, 67, 68, 69, 70, 71, 72, 73, 74, 75, 76, 77, 78, 79, 80, 81, 82, 83, 84, 85, 86, 87, 88, 89, 90, 91, 92, 93, 94, 95, 96, 97, 98, 99, 100]\n",
      "2\n",
      "[65, 93, 18, 79, 6, 23, 52, 47, 46, 37, 63, 9, 4, 76, 82, 90, 49, 62, 51, 22, 88, 36, 34, 12, 96, 45, 72, 2, 30, 98, 32, 56, 11, 27, 1, 91, 3, 84, 48, 100, 83, 2, 50, 20, 38, 19, 70, 44, 71, 41, 67, 15, 28, 89, 7, 68, 99, 14, 5, 40, 29, 16, 78, 69, 85, 53, 73, 94, 97, 80, 74, 66, 92, 43, 10, 33, 75, 24, 59, 87, 25, 55, 58, 77, 39, 35, 31, 54, 57, 13, 21, 42, 81, 86, 60, 61, 26, 17, 64, 95, 8]\n",
      "2\n"
     ]
    }
   ],
   "source": [
    "a = list(range(101))   #创建0-100的数组\n",
    "print(a)                    \n",
    "import random          #导入random函数\n",
    "i = random.randint(1,100)  #取随机数\n",
    "print(i)\n",
    "a[0] = a[i]            #替换0\n",
    "random.shuffle(a)      #随机打乱\n",
    "print(a)\n",
    "\n",
    "S = sum (a)            #求和\n",
    "b = S - 5050           #减去0到100的和\n",
    "print(b)               #得到结果"
   ]
  },
  {
   "cell_type": "code",
   "execution_count": 69,
   "metadata": {},
   "outputs": [
    {
     "ename": "SyntaxError",
     "evalue": "unexpected character after line continuation character (<ipython-input-69-fac62967cd9b>, line 1)",
     "output_type": "error",
     "traceback": [
      "\u001b[0;36m  File \u001b[0;32m\"<ipython-input-69-fac62967cd9b>\"\u001b[0;36m, line \u001b[0;32m1\u001b[0m\n\u001b[0;31m    \\begin{equation}α^{2}\\end{equation}\u001b[0m\n\u001b[0m                                       ^\u001b[0m\n\u001b[0;31mSyntaxError\u001b[0m\u001b[0;31m:\u001b[0m unexpected character after line continuation character\n"
     ]
    }
   ],
   "source": [
    "\\begin{equation}α^{2}\\end{equation}"
   ]
  },
  {
   "cell_type": "code",
   "execution_count": null,
   "metadata": {},
   "outputs": [],
   "source": []
  }
 ],
 "metadata": {
  "kernelspec": {
   "display_name": "Python 3",
   "language": "python",
   "name": "python3"
  },
  "language_info": {
   "codemirror_mode": {
    "name": "ipython",
    "version": 3
   },
   "file_extension": ".py",
   "mimetype": "text/x-python",
   "name": "python",
   "nbconvert_exporter": "python",
   "pygments_lexer": "ipython3",
   "version": "3.6.5"
  }
 },
 "nbformat": 4,
 "nbformat_minor": 2
}
