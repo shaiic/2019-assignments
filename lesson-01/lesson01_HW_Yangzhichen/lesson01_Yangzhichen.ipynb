{
 "cells": [
  {
   "cell_type": "code",
   "execution_count": null,
   "metadata": {},
   "outputs": [],
   "source": [
    "for i in range(0,18): # 以索引做循环变量\n",
    "print(i, type(f[i]))"
   ]
  },
  {
   "cell_type": "code",
   "execution_count": null,
   "metadata": {},
   "outputs": [],
   "source": [
    "for i, v in enumerate(f): # 上例的简化版本\n",
    "print(i, type(v))"
   ]
  },
  {
   "cell_type": "code",
   "execution_count": null,
   "metadata": {},
   "outputs": [],
   "source": [
    "import random\n",
    "b = [0]\n",
    "for i in range(1,101):\n",
    "b = b + [i]\n",
    "a = random.randint(1 , 100)\n",
    "b[0] = a\n",
    "random.shuffle(b)\n",
    "for x in range(1,100):\n",
    "d = 0\n",
    "for c in range(100):\n",
    "if x == b[c]:\n",
    "d = d + 1\n",
    "if d == 2:\n",
    "print(b[c])\n",
    "break\n",
    "print(b)\n",
    "sum(b)\n",
    "print(sum(b)-5050)"
   ]
  },
  {
   "cell_type": "code",
   "execution_count": null,
   "metadata": {},
   "outputs": [],
   "source": []
  }
 ],
 "metadata": {
  "kernelspec": {
   "display_name": "Python 2",
   "language": "python",
   "name": "python2"
  },
  "language_info": {
   "codemirror_mode": {
    "name": "ipython",
    "version": 2
   },
   "file_extension": ".py",
   "mimetype": "text/x-python",
   "name": "python",
   "nbconvert_exporter": "python",
   "pygments_lexer": "ipython2",
   "version": "2.7.15"
  }
 },
 "nbformat": 4,
 "nbformat_minor": 2
}
