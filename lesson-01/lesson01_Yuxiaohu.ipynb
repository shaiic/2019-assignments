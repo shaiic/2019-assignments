{
 "cells": [
  {
   "cell_type": "markdown",
   "metadata": {
    "slideshow": {
     "slide_type": "slide"
    }
   },
   "source": [
    "1.有两个排好序的数组，如[1,3,4,9…]和[2,4,8…]。写一个算法把这两个数组合并，合并后的数组仍然是排好序的，如[1,2,3,4,4,8,9…]. 要求O(n)算法复杂度。"
   ]
  },
  {
   "cell_type": "code",
   "execution_count": 37,
   "metadata": {
    "slideshow": {
     "slide_type": "subslide"
    }
   },
   "outputs": [
    {
     "data": {
      "text/plain": [
       "[1, 2, 3, 4, 4, 8, 9, 10]"
      ]
     },
     "execution_count": 37,
     "metadata": {},
     "output_type": "execute_result"
    }
   ],
   "source": [
    "a = [1,3,4,9]\n",
    "b = [2,4,8,10]\n",
    "c = a + b\n",
    "c.sort()\n",
    "c"
   ]
  },
  {
   "cell_type": "markdown",
   "metadata": {
    "slideshow": {
     "slide_type": "slide"
    }
   },
   "source": [
    "2.有一个数组，[0,100]，共101个单元，存放着0~100一共101个整数。把0替换成从[1,100]中随机的一个并打乱数组顺序。请用至少2种办法找出这个数字。"
   ]
  },
  {
   "cell_type": "code",
   "execution_count": 38,
   "metadata": {
    "slideshow": {
     "slide_type": "subslide"
    }
   },
   "outputs": [
    {
     "name": "stdout",
     "output_type": "stream",
     "text": [
      "随机数为： 79\n",
      "最终找到数字为： 79\n"
     ]
    }
   ],
   "source": [
    "#（1）把数组排序，前后比较，如果相同，即找到\n",
    "import random\n",
    "a = list(range(101))\n",
    "b = random.randint(1,100)\n",
    "print (\"随机数为：\",b)\n",
    "a[0] = b #数列未打乱顺序，默认a[0]为0\n",
    "a.sort()\n",
    "#print (a)\n",
    "for i in range(101):\n",
    "    if a[i] == a[i+1]:\n",
    "        c = a[i]\n",
    "        print (\"最终找到数字为：\",c)\n",
    "        break"
   ]
  },
  {
   "cell_type": "code",
   "execution_count": 43,
   "metadata": {
    "scrolled": true,
    "slideshow": {
     "slide_type": "subslide"
    }
   },
   "outputs": [
    {
     "name": "stdout",
     "output_type": "stream",
     "text": [
      "随机数为： 10\n",
      "最终找到数字为： 10\n"
     ]
    }
   ],
   "source": [
    "#（2）两个数组的和相减，差值即是\n",
    "import random\n",
    "a = list(range(101)) #a列\n",
    "c = a  #c列\n",
    "sa = 0 #a列的和\n",
    "for i in range(101):\n",
    "    sa = sa + a[i]\n",
    "#print (sa)\n",
    "b = random.randint(1,100)\n",
    "print (\"随机数为：\",b)\n",
    "c[0] = b #数列未打乱顺序，默认c[0]为0\n",
    "sc = 0 #c列的和\n",
    "for j in range(101):\n",
    "    sc = sc + c[j]\n",
    "#print (sc)\n",
    "d = sc - sa\n",
    "print (\"最终找到数字为：\",d)"
   ]
  },
  {
   "cell_type": "markdown",
   "metadata": {
    "slideshow": {
     "slide_type": "slide"
    }
   },
   "source": [
    "3.Type Markdown and LaTeX:$\\alpha^2$"
   ]
  },
  {
   "cell_type": "markdown",
   "metadata": {},
   "source": [
    "$\\alpha^2$"
   ]
  }
 ],
 "metadata": {
  "kernelspec": {
   "display_name": "Python 3",
   "language": "python",
   "name": "python3"
  },
  "language_info": {
   "codemirror_mode": {
    "name": "ipython",
    "version": 3
   },
   "file_extension": ".py",
   "mimetype": "text/x-python",
   "name": "python",
   "nbconvert_exporter": "python",
   "pygments_lexer": "ipython3",
   "version": "3.6.5"
  }
 },
 "nbformat": 4,
 "nbformat_minor": 2
}
