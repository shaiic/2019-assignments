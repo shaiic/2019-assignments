{
 "cells": [
  {
   "cell_type": "code",
   "execution_count": null,
   "metadata": {},
   "outputs": [],
   "source": [
    "#Q1 有两个排好序的数组，如[1,3,4,9…]和[2,4,8…]。写\n",
    "#一个算法把这两个数组合并，合并后的数组仍然是排好\n",
    "#序的，如[1,2,3,4,4,8,9…]. 要求O(n)算法复杂度。"
   ]
  },
  {
   "cell_type": "code",
   "execution_count": null,
   "metadata": {},
   "outputs": [],
   "source": [
    "list_x = [1,3,4,9]\n",
    "list_y = [2,4,8]\n",
    "# 方法一\n",
    "def merge_sort1(x,y):\n",
    "list_merge = x + y\n",
    "list_merge.sort()\n",
    "return list_merge\n",
    "# 方法二\n",
    "def merge_sort2(x,y):\n",
    "if len(x) == 0:\n",
    "return y\n",
    "elif len(y) == 0:\n",
    "return x\n",
    "x_index = 0\n",
    "y_index = 0\n",
    "merge_list = []\n",
    "while True:\n",
    "if x[x_index]>y[y_index]:\n",
    "merge_list.append(y[y_index])\n",
    "y_index = y_index + 1\n",
    "else:\n",
    "merge_list.append(x[x_index])\n",
    "x_index = x_index + 1\n",
    "if x_index == len(list_x):\n",
    "return merge_list + y[y_index:]\n",
    "elif y_index == len(list_y):\n",
    "return merge_list + x[x_index:]\n",
    "print(\"方法一\")\n",
    "print(merge_sort1(list_x, list_y))\n",
    "print(\"方法二\")\n",
    "print(merge_sort2(list_x, list_y))"
   ]
  },
  {
   "cell_type": "code",
   "execution_count": null,
   "metadata": {},
   "outputs": [],
   "source": [
    "#Q2 [0,100]，共101个单元，存放着0~100一共101个整\n",
    "#数。把0替换成从[1,100]中随机的一个并打乱数组顺\n",
    "#序。请用至少2种办法找出这个数字"
   ]
  },
  {
   "cell_type": "code",
   "execution_count": null,
   "metadata": {},
   "outputs": [],
   "source": [
    "import random\n",
    "# 方法一\n",
    "def find_num1(num_list):\n",
    "return sum(num_list)-5050\n",
    "# 方法二\n",
    "def find_num2(num_list):\n",
    "num_check = []\n",
    "for num in num_list:\n",
    "if num in num_check:\n",
    "return num\n",
    "else:\n",
    "num_check.append(num)\n",
    "# 测试效果\n",
    "ori_list = [x for x in range(0,101)]\n",
    "ori_list[0] = random.randint(1,100)\n",
    "random.shuffle(ori_list)\n",
    "print(ori_list)\n",
    "print(\"方法一\")\n",
    "print(find_num1(ori_list))\n",
    "print(\"方法二\")\n",
    "print(find_num2(ori_list))"
   ]
  }
 ],
 "metadata": {
  "kernelspec": {
   "display_name": "Python 2",
   "language": "python",
   "name": "python2"
  },
  "language_info": {
   "codemirror_mode": {
    "name": "ipython",
    "version": 2
   },
   "file_extension": ".py",
   "mimetype": "text/x-python",
   "name": "python",
   "nbconvert_exporter": "python",
   "pygments_lexer": "ipython2",
   "version": "2.7.15"
  }
 },
 "nbformat": 4,
 "nbformat_minor": 2
}
