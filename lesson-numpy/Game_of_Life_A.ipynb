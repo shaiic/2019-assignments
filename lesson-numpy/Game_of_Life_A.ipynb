{
 "cells": [
  {
   "cell_type": "markdown",
   "metadata": {
    "slideshow": {
     "slide_type": "slide"
    }
   },
   "source": [
    "# 生命游戏\n",
    "\n",
    "这是个模拟生命演化的游戏，在一个广阔的生存空间里，设定生命群落存活和繁衍的规则，个体和群落依据既相互竞争又相互依存的法则进行进化。\n",
    "\n",
    "## 总的规则\n",
    "\n",
    "- 过于拥挤的分布 - 资源争夺 - 死亡\n",
    "- 过于孤立的分布 - 不具备种群优势 - 灭绝\n",
    "- 适度的分布 - 繁衍\n",
    "\n",
    "## 规则细节\n",
    "\n",
    "\n",
    "- 少于2邻居，死\n",
    "- 多于3邻居，死\n",
    "- 正好3邻居，生"
   ]
  },
  {
   "cell_type": "markdown",
   "metadata": {
    "slideshow": {
     "slide_type": "slide"
    }
   },
   "source": [
    "## 创作者的解释\n",
    "\n",
    "- [跳到1分钟处观看规则](http://bazhou.blob.core.windows.net/learning/mpp/414_Does_John_Conway_hate_his_Game_of_Life-E8kUJL04ELA.mp4 )\n",
    "\n",
    "- [对于这个想法的来源（冯.诺伊曼）可以看这个视频](http://bazhou.blob.core.windows.net/learning/mpp/665_Inventing_Game_of_Life_-_Numberphile-R9Plq-D1gEk.mp4 )"
   ]
  },
  {
   "cell_type": "markdown",
   "metadata": {
    "slideshow": {
     "slide_type": "slide"
    }
   },
   "source": [
    "## 交互体验\n",
    "\n",
    "这个交互体验的目的是获得感官印象\n",
    "\n",
    "- [体验游戏的过程是没有交互的](https://bitstorm.org/gameoflife/)，"
   ]
  },
  {
   "cell_type": "markdown",
   "metadata": {
    "slideshow": {
     "slide_type": "slide"
    }
   },
   "source": [
    "## Wikipedia解释\n",
    "\n",
    "如果已经明白规则，可以忽略这部分文档。\n",
    "\n",
    "- [English version long](http://bazhou.blob.core.windows.net/learning/mpp/game_of_life_en.pdf)\n",
    "- [汉语版本（短）](http://bazhou.blob.core.windows.net/learning/mpp/game_of_life_cn.pdf)"
   ]
  },
  {
   "cell_type": "markdown",
   "metadata": {
    "slideshow": {
     "slide_type": "slide"
    }
   },
   "source": [
    "# 挑战\n",
    "\n",
    "- 用Python实现游戏规则\n",
    "  - 在1000x1000共一百万个单元里模拟\n",
    "  - 边界为0\n",
    "  - 不需要画图，只需要完成进化矩阵的运算即可\n",
    "- 尽量短的代码\n",
    "- 尽量高效"
   ]
  },
  {
   "cell_type": "markdown",
   "metadata": {
    "slideshow": {
     "slide_type": "slide"
    }
   },
   "source": [
    "# 可以跳过下面全部的参考直接解决问题"
   ]
  },
  {
   "cell_type": "markdown",
   "metadata": {
    "slideshow": {
     "slide_type": "slide"
    }
   },
   "source": [
    "## 参考一\n",
    "\n",
    "[github搜索一个解](https://github.com/domoritz/gameoflife-python)"
   ]
  },
  {
   "cell_type": "markdown",
   "metadata": {
    "slideshow": {
     "slide_type": "slide"
    }
   },
   "source": [
    "## 参考二\n",
    "\n",
    "[Peter Norvig 的 notebook](https://nbviewer.jupyter.org/url/norvig.com/ipython/Life.ipynb)"
   ]
  },
  {
   "cell_type": "markdown",
   "metadata": {
    "slideshow": {
     "slide_type": "slide"
    }
   },
   "source": [
    "## 参考三\n",
    "\n",
    "[这个编程问题的96种语言实现](https://rosettacode.org/wiki/Conway%27s_Game_of_Life)"
   ]
  },
  {
   "cell_type": "markdown",
   "metadata": {
    "slideshow": {
     "slide_type": "slide"
    }
   },
   "source": [
    "## 参考四\n",
    "\n",
    "下面的代码是启发解，虽然不是最优解，但是\n",
    "\n",
    "- 给出了算法的基本结构\n",
    "  - 计算邻居数\n",
    "  - 根据法则进化\n",
    "- 循环结构指示了计算规模"
   ]
  },
  {
   "cell_type": "code",
   "execution_count": 214,
   "metadata": {
    "slideshow": {
     "slide_type": "slide"
    }
   },
   "outputs": [
    {
     "name": "stdout",
     "output_type": "stream",
     "text": [
      "6.1976799729745835\n"
     ]
    }
   ],
   "source": [
    "import random as random\n",
    "import timeit\n",
    "\n",
    "# 产生一个百万0，1数组，0代表空（死），1代表生\n",
    "Z = [[random.choice([0,1]) for x in range(1000)] for y in range(1000)]\n",
    "\n",
    "# 计算八个邻居数目\n",
    "def neighbours(Z):\n",
    "    s = len(Z), len(Z[0])\n",
    "    # 一个初始全为0的邻居数量矩阵\n",
    "    N = [[0,]*(s[0]) for i in range(s[1])]\n",
    "    for x in range(1, s[0]-1):                                  # 注意边界\n",
    "        for y in range(1, s[1]-1):\n",
    "            N[x][y] = (Z[x-1][y-1] + Z[x][y-1] + Z[x+1][y-1] +  # 邻居数量=周围8个格子生命统计\n",
    "                       Z[x-1][y]               + Z[x+1][y]   +\n",
    "                       Z[x-1][y+1] + Z[x][y+1] + Z[x+1][y+1])\n",
    "    return N\n",
    "\n",
    "# 根据周围邻居总数应用规则\n",
    "def evolve(Z):\n",
    "    s = len(Z), len(Z[0])\n",
    "    N = neighbours(Z)\n",
    "    for x in range(1, s[0]-1):\n",
    "        for y in range(1, s[1]-1):\n",
    "            if Z[x][y] == 1 and (N[x][y] < 2 or N[x][y] > 3): # 灭亡规则\n",
    "                Z[x][y] = 0\n",
    "            elif Z[x][y] == 0 and N[x][y] == 3:               # 繁衍规则\n",
    "                Z[x][y] = 1\n",
    "    return Z\n",
    "\n",
    "print(timeit.timeit(lambda: evolve(Z), number=3))             # 对百万人口作三代进化，统计运算效率"
   ]
  },
  {
   "cell_type": "markdown",
   "metadata": {
    "slideshow": {
     "slide_type": "slide"
    }
   },
   "source": [
    "## 尝试用Numpy解"
   ]
  },
  {
   "cell_type": "code",
   "execution_count": 226,
   "metadata": {
    "slideshow": {
     "slide_type": "slide"
    }
   },
   "outputs": [
    {
     "name": "stdout",
     "output_type": "stream",
     "text": [
      "3.1669915188103914e-06\n"
     ]
    }
   ],
   "source": [
    "import timeit\n",
    "import numpy as np\n",
    "\n",
    "Znp = np.random.randint(2, size=(1000,1000))\n",
    "\n",
    "def np_solver(Z):\n",
    "        return Z # 把实现填进来\n",
    "    \n",
    "print(timeit.timeit(lambda: np_solver(Znp), number=3))"
   ]
  },
  {
   "cell_type": "markdown",
   "metadata": {
    "slideshow": {
     "slide_type": "slide"
    }
   },
   "source": [
    "## 提示一\n",
    "\n",
    "- 使用索引[1:-1,1:-1]可以消去邻居数循环"
   ]
  },
  {
   "cell_type": "code",
   "execution_count": 1,
   "metadata": {
    "slideshow": {
     "slide_type": "subslide"
    }
   },
   "outputs": [
    {
     "data": {
      "text/plain": [
       "[2, 3, 4]"
      ]
     },
     "execution_count": 1,
     "metadata": {},
     "output_type": "execute_result"
    }
   ],
   "source": [
    "l = [1, 2, 3, 4, 5]\n",
    "l[1:-1]"
   ]
  },
  {
   "cell_type": "markdown",
   "metadata": {
    "slideshow": {
     "slide_type": "slide"
    }
   },
   "source": [
    "## 提示二\n",
    "\n",
    "- [argwhere可以帮助作规则判断](https://docs.scipy.org/doc/numpy/reference/generated/numpy.argwhere.html)"
   ]
  },
  {
   "cell_type": "code",
   "execution_count": 18,
   "metadata": {
    "slideshow": {
     "slide_type": "slide"
    }
   },
   "outputs": [
    {
     "ename": "ValueError",
     "evalue": "operands could not be broadcast together with shapes (18169,2) (314757,2) ",
     "output_type": "error",
     "traceback": [
      "\u001b[0;31m---------------------------------------------------------------------------\u001b[0m",
      "\u001b[0;31mValueError\u001b[0m                                Traceback (most recent call last)",
      "\u001b[0;32m<ipython-input-18-aec682ef2f10>\u001b[0m in \u001b[0;36m<module>\u001b[0;34m\u001b[0m\n\u001b[1;32m     18\u001b[0m     \u001b[0mZ\u001b[0m\u001b[0;34m[\u001b[0m\u001b[0mnp\u001b[0m\u001b[0;34m.\u001b[0m\u001b[0margwhere\u001b[0m\u001b[0;34m(\u001b[0m \u001b[0;34m(\u001b[0m\u001b[0mZ\u001b[0m\u001b[0;34m==\u001b[0m\u001b[0;36m0\u001b[0m\u001b[0;34m)\u001b[0m \u001b[0;34m&\u001b[0m \u001b[0;34m(\u001b[0m\u001b[0mN\u001b[0m\u001b[0;34m==\u001b[0m\u001b[0;36m3\u001b[0m\u001b[0;34m)\u001b[0m \u001b[0;34m)\u001b[0m\u001b[0;34m]\u001b[0m \u001b[0;34m=\u001b[0m \u001b[0;36m0\u001b[0m\u001b[0;34m\u001b[0m\u001b[0m\n\u001b[1;32m     19\u001b[0m \u001b[0;34m\u001b[0m\u001b[0m\n\u001b[0;32m---> 20\u001b[0;31m \u001b[0mprint\u001b[0m\u001b[0;34m(\u001b[0m\u001b[0mtimeit\u001b[0m\u001b[0;34m.\u001b[0m\u001b[0mtimeit\u001b[0m\u001b[0;34m(\u001b[0m\u001b[0;32mlambda\u001b[0m\u001b[0;34m:\u001b[0m \u001b[0mno_loop\u001b[0m\u001b[0;34m(\u001b[0m\u001b[0mZnp\u001b[0m\u001b[0;34m)\u001b[0m\u001b[0;34m,\u001b[0m \u001b[0mnumber\u001b[0m\u001b[0;34m=\u001b[0m\u001b[0;36m3\u001b[0m\u001b[0;34m)\u001b[0m\u001b[0;34m)\u001b[0m\u001b[0;34m\u001b[0m\u001b[0m\n\u001b[0m",
      "\u001b[0;32m/usr/lib/python3.6/timeit.py\u001b[0m in \u001b[0;36mtimeit\u001b[0;34m(stmt, setup, timer, number, globals)\u001b[0m\n\u001b[1;32m    231\u001b[0m            number=default_number, globals=None):\n\u001b[1;32m    232\u001b[0m     \u001b[0;34m\"\"\"Convenience function to create Timer object and call timeit method.\"\"\"\u001b[0m\u001b[0;34m\u001b[0m\u001b[0m\n\u001b[0;32m--> 233\u001b[0;31m     \u001b[0;32mreturn\u001b[0m \u001b[0mTimer\u001b[0m\u001b[0;34m(\u001b[0m\u001b[0mstmt\u001b[0m\u001b[0;34m,\u001b[0m \u001b[0msetup\u001b[0m\u001b[0;34m,\u001b[0m \u001b[0mtimer\u001b[0m\u001b[0;34m,\u001b[0m \u001b[0mglobals\u001b[0m\u001b[0;34m)\u001b[0m\u001b[0;34m.\u001b[0m\u001b[0mtimeit\u001b[0m\u001b[0;34m(\u001b[0m\u001b[0mnumber\u001b[0m\u001b[0;34m)\u001b[0m\u001b[0;34m\u001b[0m\u001b[0m\n\u001b[0m\u001b[1;32m    234\u001b[0m \u001b[0;34m\u001b[0m\u001b[0m\n\u001b[1;32m    235\u001b[0m def repeat(stmt=\"pass\", setup=\"pass\", timer=default_timer,\n",
      "\u001b[0;32m/usr/lib/python3.6/timeit.py\u001b[0m in \u001b[0;36mtimeit\u001b[0;34m(self, number)\u001b[0m\n\u001b[1;32m    176\u001b[0m         \u001b[0mgc\u001b[0m\u001b[0;34m.\u001b[0m\u001b[0mdisable\u001b[0m\u001b[0;34m(\u001b[0m\u001b[0;34m)\u001b[0m\u001b[0;34m\u001b[0m\u001b[0m\n\u001b[1;32m    177\u001b[0m         \u001b[0;32mtry\u001b[0m\u001b[0;34m:\u001b[0m\u001b[0;34m\u001b[0m\u001b[0m\n\u001b[0;32m--> 178\u001b[0;31m             \u001b[0mtiming\u001b[0m \u001b[0;34m=\u001b[0m \u001b[0mself\u001b[0m\u001b[0;34m.\u001b[0m\u001b[0minner\u001b[0m\u001b[0;34m(\u001b[0m\u001b[0mit\u001b[0m\u001b[0;34m,\u001b[0m \u001b[0mself\u001b[0m\u001b[0;34m.\u001b[0m\u001b[0mtimer\u001b[0m\u001b[0;34m)\u001b[0m\u001b[0;34m\u001b[0m\u001b[0m\n\u001b[0m\u001b[1;32m    179\u001b[0m         \u001b[0;32mfinally\u001b[0m\u001b[0;34m:\u001b[0m\u001b[0;34m\u001b[0m\u001b[0m\n\u001b[1;32m    180\u001b[0m             \u001b[0;32mif\u001b[0m \u001b[0mgcold\u001b[0m\u001b[0;34m:\u001b[0m\u001b[0;34m\u001b[0m\u001b[0m\n",
      "\u001b[0;32m/usr/lib/python3.6/timeit.py\u001b[0m in \u001b[0;36minner\u001b[0;34m(_it, _timer, _stmt)\u001b[0m\n",
      "\u001b[0;32m<ipython-input-18-aec682ef2f10>\u001b[0m in \u001b[0;36m<lambda>\u001b[0;34m()\u001b[0m\n\u001b[1;32m     18\u001b[0m     \u001b[0mZ\u001b[0m\u001b[0;34m[\u001b[0m\u001b[0mnp\u001b[0m\u001b[0;34m.\u001b[0m\u001b[0margwhere\u001b[0m\u001b[0;34m(\u001b[0m \u001b[0;34m(\u001b[0m\u001b[0mZ\u001b[0m\u001b[0;34m==\u001b[0m\u001b[0;36m0\u001b[0m\u001b[0;34m)\u001b[0m \u001b[0;34m&\u001b[0m \u001b[0;34m(\u001b[0m\u001b[0mN\u001b[0m\u001b[0;34m==\u001b[0m\u001b[0;36m3\u001b[0m\u001b[0;34m)\u001b[0m \u001b[0;34m)\u001b[0m\u001b[0;34m]\u001b[0m \u001b[0;34m=\u001b[0m \u001b[0;36m0\u001b[0m\u001b[0;34m\u001b[0m\u001b[0m\n\u001b[1;32m     19\u001b[0m \u001b[0;34m\u001b[0m\u001b[0m\n\u001b[0;32m---> 20\u001b[0;31m \u001b[0mprint\u001b[0m\u001b[0;34m(\u001b[0m\u001b[0mtimeit\u001b[0m\u001b[0;34m.\u001b[0m\u001b[0mtimeit\u001b[0m\u001b[0;34m(\u001b[0m\u001b[0;32mlambda\u001b[0m\u001b[0;34m:\u001b[0m \u001b[0mno_loop\u001b[0m\u001b[0;34m(\u001b[0m\u001b[0mZnp\u001b[0m\u001b[0;34m)\u001b[0m\u001b[0;34m,\u001b[0m \u001b[0mnumber\u001b[0m\u001b[0;34m=\u001b[0m\u001b[0;36m3\u001b[0m\u001b[0;34m)\u001b[0m\u001b[0;34m)\u001b[0m\u001b[0;34m\u001b[0m\u001b[0m\n\u001b[0m",
      "\u001b[0;32m<ipython-input-18-aec682ef2f10>\u001b[0m in \u001b[0;36mno_loop\u001b[0;34m(Z)\u001b[0m\n\u001b[1;32m     15\u001b[0m     \u001b[0mR4\u001b[0m \u001b[0;34m=\u001b[0m \u001b[0mnp\u001b[0m\u001b[0;34m.\u001b[0m\u001b[0margwhere\u001b[0m\u001b[0;34m(\u001b[0m \u001b[0;34m(\u001b[0m\u001b[0mZ\u001b[0m\u001b[0;34m==\u001b[0m\u001b[0;36m0\u001b[0m\u001b[0;34m)\u001b[0m \u001b[0;34m&\u001b[0m \u001b[0;34m(\u001b[0m\u001b[0mN\u001b[0m\u001b[0;34m==\u001b[0m\u001b[0;36m3\u001b[0m\u001b[0;34m)\u001b[0m \u001b[0;34m)\u001b[0m\u001b[0;34m\u001b[0m\u001b[0m\n\u001b[1;32m     16\u001b[0m \u001b[0;34m\u001b[0m\u001b[0m\n\u001b[0;32m---> 17\u001b[0;31m     \u001b[0mZ\u001b[0m\u001b[0;34m[\u001b[0m\u001b[0mR1\u001b[0m\u001b[0;34m|\u001b[0m\u001b[0mR2\u001b[0m\u001b[0;34m]\u001b[0m \u001b[0;34m=\u001b[0m \u001b[0;36m0\u001b[0m\u001b[0;34m\u001b[0m\u001b[0m\n\u001b[0m\u001b[1;32m     18\u001b[0m     \u001b[0mZ\u001b[0m\u001b[0;34m[\u001b[0m\u001b[0mnp\u001b[0m\u001b[0;34m.\u001b[0m\u001b[0margwhere\u001b[0m\u001b[0;34m(\u001b[0m \u001b[0;34m(\u001b[0m\u001b[0mZ\u001b[0m\u001b[0;34m==\u001b[0m\u001b[0;36m0\u001b[0m\u001b[0;34m)\u001b[0m \u001b[0;34m&\u001b[0m \u001b[0;34m(\u001b[0m\u001b[0mN\u001b[0m\u001b[0;34m==\u001b[0m\u001b[0;36m3\u001b[0m\u001b[0;34m)\u001b[0m \u001b[0;34m)\u001b[0m\u001b[0;34m]\u001b[0m \u001b[0;34m=\u001b[0m \u001b[0;36m0\u001b[0m\u001b[0;34m\u001b[0m\u001b[0m\n\u001b[1;32m     19\u001b[0m \u001b[0;34m\u001b[0m\u001b[0m\n",
      "\u001b[0;31mValueError\u001b[0m: operands could not be broadcast together with shapes (18169,2) (314757,2) "
     ]
    }
   ],
   "source": [
    "import timeit\n",
    "import numpy as np\n",
    "\n",
    "Znp = np.random.randint(2, size=(1000,1000))\n",
    "Znp[0,:] = Znp[-1,:] = Znp[:,0] = Znp[:,-1] = 0\n",
    "\n",
    "def no_loop(Z):\n",
    "    N = np.zeros(Z.shape, dtype=int)\n",
    "    N[1:-1,1:-1] += (Z[ :-2, :-2] + Z[ :-2,1:-1] + Z[ :-2,2:] +\n",
    "                     Z[1:-1, :-2]                + Z[1:-1,2:] +\n",
    "                     Z[2:  , :-2] + Z[2:  ,1:-1] + Z[2:  ,2:])\n",
    "\n",
    "    R1 = np.argwhere( (Z==1) & (N < 2) )\n",
    "    R2 = np.argwhere( (Z==1) & (N > 3) )\n",
    "    R4 = np.argwhere( (Z==0) & (N==3) )\n",
    "\n",
    "    Z[R1|R2] = 0\n",
    "    Z[]\n",
    "    Z[np.argwhere( (Z==0) & (N==3) )] = 0\n",
    "    \n",
    "print(timeit.timeit(lambda: no_loop(Znp), number=3))"
   ]
  },
  {
   "cell_type": "markdown",
   "metadata": {
    "slideshow": {
     "slide_type": "slide"
    }
   },
   "source": [
    "## 提示三\n",
    "\n",
    "-[ravel是view](https://docs.scipy.org/doc/numpy/reference/generated/numpy.ravel.html)\n",
    "\n",
    "-[参考曾佑轩分享的关于Numpy性能的文章](https://zhuanlan.zhihu.com/p/28626431)\n",
    "\n",
    "-[numpy.take](https://docs.scipy.org/doc/numpy/reference/generated/numpy.take.html)\n",
    "\n",
    "-[numpy.compress](https://docs.scipy.org/doc/numpy/reference/generated/numpy.compress.html)"
   ]
  },
  {
   "cell_type": "code",
   "execution_count": 7,
   "metadata": {
    "slideshow": {
     "slide_type": "slide"
    }
   },
   "outputs": [
    {
     "name": "stdout",
     "output_type": "stream",
     "text": [
      "0.0958231000113301\n"
     ]
    }
   ],
   "source": [
    "import timeit\n",
    "import numpy as np\n",
    "\n",
    "# 数据类型加速\n",
    "Znp = np.random.randint(2, size=(1000,1000), dtype=np.int8)\n",
    "\n",
    "def no_loop_int_view(Z):\n",
    "    N = np.zeros(Z.shape, dtype=np.int8)\n",
    "    N[1:-1,1:-1] += (Z[ :-2, :-2] + Z[ :-2,1:-1] + Z[ :-2,2:] +\n",
    "                     Z[1:-1, :-2]                + Z[1:-1,2:] +\n",
    "                     Z[2:  , :-2] + Z[2:  ,1:-1] + Z[2:  ,2:])\n",
    "\n",
    "    N_ = N.ravel()\n",
    "    Z_ = Z.ravel()\n",
    "\n",
    "    R1 = np.argwhere((Z_== 1) & (N_ < 2))\n",
    "    R2 = np.argwhere((Z_== 1) & (N_ > 3))\n",
    "    R3 = np.argwhere((Z_== 1) & ((N_==2) | (N_==3)))\n",
    "    R4 = np.argwhere((Z_== 0) & (N_==3))\n",
    "\n",
    "    Z_[R1] = 0\n",
    "    Z_[R2] = 0\n",
    "    Z_[R3] = Z_[R3]\n",
    "    Z_[R4] = 1\n",
    "\n",
    "    Z[0,:] = Z[-1,:] = Z[:,0] = Z[:,-1] = 0\n",
    "    \n",
    "print(timeit.timeit(lambda: no_loop_int_view(Znp), number=3))"
   ]
  },
  {
   "cell_type": "code",
   "execution_count": 8,
   "metadata": {
    "slideshow": {
     "slide_type": "slide"
    }
   },
   "outputs": [
    {
     "name": "stdout",
     "output_type": "stream",
     "text": [
      "0.058516499993856996\n"
     ]
    }
   ],
   "source": [
    "import timeit\n",
    "import numpy as np\n",
    "\n",
    "Znp = np.random.randint(2, size=(1000,1000), dtype=np.int8)\n",
    "\n",
    "def no_loop_int_view_reduce_rule(Z):\n",
    "    N = np.zeros(Z.shape, dtype=np.int8)\n",
    "    N[1:-1,1:-1] += (Z[ :-2, :-2] + Z[ :-2,1:-1] + Z[ :-2,2:] +\n",
    "                     Z[1:-1, :-2]                + Z[1:-1,2:] +\n",
    "                     Z[2:  , :-2] + Z[2:  ,1:-1] + Z[2:  ,2:])\n",
    "\n",
    "    N_ = N.ravel()\n",
    "    Z_ = Z.ravel()\n",
    "\n",
    "    K = np.argwhere((N_== 2) & (Z_ == 1))\n",
    "    Z_[...] = 0\n",
    "    Z_[K] = 1\n",
    "    Z_[np.argwhere(N_== 3)] = 1 # 规则化简，只计算一个mask数组\n",
    "\n",
    "print(timeit.timeit(lambda: no_loop_int_view_reduce_rule(Znp), number=3))"
   ]
  },
  {
   "cell_type": "code",
   "execution_count": 9,
   "metadata": {
    "slideshow": {
     "slide_type": "slide"
    }
   },
   "outputs": [
    {
     "name": "stdout",
     "output_type": "stream",
     "text": [
      "0.04360699997050688\n"
     ]
    }
   ],
   "source": [
    "import timeit\n",
    "import numpy as np\n",
    "\n",
    "Znp = np.random.randint(2, size=(1000,1000), dtype=np.int8)\n",
    "\n",
    "# 只有索引表达式的解\n",
    "def no_loop_int_view_reduce_rule_no_mask(Z):\n",
    "    N = np.zeros(Z.shape, dtype=np.int8)\n",
    "    N[1:-1,1:-1] += (Z[ :-2, :-2] + Z[ :-2,1:-1] + Z[ :-2,2:] +\n",
    "                     Z[1:-1, :-2]                + Z[1:-1,2:] +\n",
    "                     Z[2:  , :-2] + Z[2:  ,1:-1] + Z[2:  ,2:])\n",
    "\n",
    "\n",
    "    Z[...] = 0\n",
    "    Z[1:-1,1:-1][(N == 3)[1:-1,1:-1]] = 1                 \n",
    "    \n",
    "print(timeit.timeit(lambda: no_loop_int_view_reduce_rule_no_mask(Znp), number=3))"
   ]
  },
  {
   "cell_type": "markdown",
   "metadata": {
    "slideshow": {
     "slide_type": "slide"
    }
   },
   "source": [
    "### 四行解决问题，除去两行置零操作，只有两行！\n",
    "\n",
    "### 但这个解有错！因为改变了繁衍规则，等于放开了“二胎”。"
   ]
  },
  {
   "cell_type": "code",
   "execution_count": 11,
   "metadata": {
    "slideshow": {
     "slide_type": "slide"
    }
   },
   "outputs": [
    {
     "name": "stdout",
     "output_type": "stream",
     "text": [
      "0.05661190004320815\n"
     ]
    }
   ],
   "source": [
    "import timeit\n",
    "import numpy as np\n",
    "\n",
    "Znp = np.random.randint(2, size=(1000,1000), dtype=np.int8)\n",
    "\n",
    "# 只有索引表达式的解\n",
    "def no_loop_int_view_reduce_rule_no_mask(Z):\n",
    "    N = np.zeros(Z.shape, dtype=np.int8)\n",
    "    N[1:-1,1:-1] += (Z[ :-2, :-2] + Z[ :-2,1:-1] + Z[ :-2,2:] +\n",
    "                     Z[1:-1, :-2]                + Z[1:-1,2:] +\n",
    "                     Z[2:  , :-2] + Z[2:  ,1:-1] + Z[2:  ,2:])\n",
    "\n",
    "    K2 = (((N == 2)[1:-1,1:-1]) & (Z[1:-1,1:-1] == 1)) # 保留2\n",
    "    L3 = (N == 3)[1:-1,1:-1]                           # 保留3，出生3\n",
    "    Z[...] = 0\n",
    "    Z[1:-1,1:-1][K2|L3] = 1                 \n",
    "    \n",
    "print(timeit.timeit(lambda: no_loop_int_view_reduce_rule_no_mask(Znp), number=3))"
   ]
  },
  {
   "cell_type": "markdown",
   "metadata": {
    "slideshow": {
     "slide_type": "slide"
    }
   },
   "source": [
    "### 让我们牺牲一点可读性\n",
    "### 把生存法则编码成一个布尔表达式\n",
    "### 省掉一个布尔矩阵创建"
   ]
  },
  {
   "cell_type": "code",
   "execution_count": 13,
   "metadata": {
    "slideshow": {
     "slide_type": "slide"
    }
   },
   "outputs": [
    {
     "name": "stdout",
     "output_type": "stream",
     "text": [
      "0.056417200015857816\n"
     ]
    }
   ],
   "source": [
    "import timeit\n",
    "import numpy as np\n",
    "\n",
    "Znp = np.random.randint(2, size=(1000,1000), dtype=np.int8)\n",
    "\n",
    "def no_loop_int_view_reduce_rule_no_mask(Z):\n",
    "    N = np.zeros(Z.shape, dtype=np.int8)\n",
    "    N[1:-1,1:-1] += (Z[ :-2, :-2] + Z[ :-2,1:-1] + Z[ :-2,2:] +\n",
    "                     Z[1:-1, :-2]                + Z[1:-1,2:] +\n",
    "                     Z[2:  , :-2] + Z[2:  ,1:-1] + Z[2:  ,2:])\n",
    "\n",
    "    Z[...] = 0\n",
    "    Z[1:-1,1:-1][(((N == 2)[1:-1,1:-1])&(Z[1:-1,1:-1] == 1))|(N == 3)[1:-1,1:-1]] = 1\n",
    "    \n",
    "print(timeit.timeit(lambda: no_loop_int_view_reduce_rule_no_mask(Znp), number=3))"
   ]
  },
  {
   "cell_type": "markdown",
   "metadata": {
    "slideshow": {
     "slide_type": "slide"
    }
   },
   "source": [
    "# 一行解\n",
    "![gof apl](http://bazhou.blob.core.windows.net/learning/mpp/gof_apl.png)"
   ]
  },
  {
   "cell_type": "markdown",
   "metadata": {
    "slideshow": {
     "slide_type": "slide"
    }
   },
   "source": [
    "# 深入讨论\n",
    "\n",
    "- [用向量思考=改变描述问题的语言=用简化语言描述解决方案](http://bazhou.blob.core.windows.net/learning/mpp/467_Conway_s_Game_Of_Life_in_APL-a9xAKttWgP4.mp4)\n",
    "- [APL implement](https://www.dyalog.com/download-zone.htm)\n",
    "- [Alan Kay on APL](https://www.quora.com/What-made-APL-programming-so-revolutionary)\n",
    "- [Notation as a Tool of Thought](https://bazhou.blob.core.windows.net/learning/mpp/iverson.pdf)"
   ]
  },
  {
   "cell_type": "markdown",
   "metadata": {
    "slideshow": {
     "slide_type": "subslide"
    }
   },
   "source": [
    "# 深入讨论\n",
    "\n",
    "- [动画](http://bazhou.blob.core.windows.net/learning/mpp/game-of-life.mp4)显示进化过程自娱自乐\n"
   ]
  },
  {
   "cell_type": "markdown",
   "metadata": {
    "slideshow": {
     "slide_type": "subslide"
    }
   },
   "source": [
    "# 深入讨论\n",
    "\n",
    "- 画出图形显示随着世界规模的增长，不同存储方案的显著性能差异\n"
   ]
  }
 ],
 "metadata": {
  "celltoolbar": "Slideshow",
  "kernelspec": {
   "display_name": "Python 3",
   "language": "python",
   "name": "python3"
  },
  "language_info": {
   "codemirror_mode": {
    "name": "ipython",
    "version": 3
   },
   "file_extension": ".py",
   "mimetype": "text/x-python",
   "name": "python",
   "nbconvert_exporter": "python",
   "pygments_lexer": "ipython3",
   "version": "3.6.5"
  }
 },
 "nbformat": 4,
 "nbformat_minor": 2
}
