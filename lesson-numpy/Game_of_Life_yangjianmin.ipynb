{
 "cells": [
  {
   "cell_type": "markdown",
   "metadata": {},
   "source": [
    "# 生命游戏\n",
    "\n",
    "这是个模拟生命演化的游戏，在一个广阔的生存空间里，设定生命群落存活和繁衍的规则，个体和群落依据既相互竞争又相互依存的法则进行进化。\n",
    "\n",
    "## 总的规则\n",
    "\n",
    "- 过于拥挤的分布 - 资源争夺 - 死亡\n",
    "- 过于孤立的分布 - 不具备种群优势 - 灭绝\n",
    "- 适度的分布 - 繁衍\n",
    "\n",
    "## 规则细节\n",
    "\n",
    "### 规则\n",
    "#### 对于“填充”的空间：\n",
    "- 每个有一个或没有邻居的小区都会死亡，就像孤独一样。\n",
    "- 每个有四个或更多邻居的小区都会死亡，好像是人口过剩。\n",
    "- 每个有两个或三个邻居的细胞存活下来。\n",
    "\n",
    "#### 对于“空”或“未填充”的空间\n",
    "- 每个具有三个邻居的小区变为填充。\n",
    "\n",
    "\n",
    "- 少于2邻居，死\n",
    "- 多于3邻居，死\n",
    "- 正好3邻居，生"
   ]
  },
  {
   "cell_type": "markdown",
   "metadata": {},
   "source": [
    "## 创作者的解释\n",
    "\n",
    "- [跳到1分钟处观看规则](http://bazhou.blob.core.windows.net/learning/mpp/414_Does_John_Conway_hate_his_Game_of_Life-E8kUJL04ELA.mp4 )\n",
    "\n",
    "- [对于这个想法的来源（冯.诺伊曼）可以看这个视频](http://bazhou.blob.core.windows.net/learning/mpp/665_Inventing_Game_of_Life_-_Numberphile-R9Plq-D1gEk.mp4 )"
   ]
  },
  {
   "cell_type": "markdown",
   "metadata": {},
   "source": [
    "## 交互体验\n",
    "\n",
    "这个交互体验的目的是获得感官印象\n",
    "\n",
    "- [体验游戏的过程是没有交互的](https://bitstorm.org/gameoflife/)，"
   ]
  },
  {
   "cell_type": "markdown",
   "metadata": {},
   "source": [
    "## Wikipedia解释\n",
    "\n",
    "如果已经明白规则，可以忽略这部分文档。\n",
    "\n",
    "- [English version long](http://bazhou.blob.core.windows.net/learning/mpp/game_of_life_en.pdf)\n",
    "- [汉语版本（短）](http://bazhou.blob.core.windows.net/learning/mpp/game_of_life_cn.pdf)"
   ]
  },
  {
   "cell_type": "markdown",
   "metadata": {},
   "source": [
    "# 挑战\n",
    "\n",
    "- 用Python实现游戏规则\n",
    "  - 在1000x1000共一百万个单元里模拟\n",
    "  - 边界为0\n",
    "  - 不需要画图，只需要完成进化矩阵的运算即可\n",
    "- 尽量短的代码\n",
    "- 尽量高效"
   ]
  },
  {
   "cell_type": "markdown",
   "metadata": {},
   "source": [
    "# 可以跳过下面全部的参考直接解决问题"
   ]
  },
  {
   "cell_type": "markdown",
   "metadata": {},
   "source": [
    "## 参考一\n",
    "\n",
    "[github搜索一个解](https://github.com/domoritz/gameoflife-python)"
   ]
  },
  {
   "cell_type": "markdown",
   "metadata": {},
   "source": [
    "## 参考二\n",
    "\n",
    "[Peter Norvig 的 notebook](https://nbviewer.jupyter.org/url/norvig.com/ipython/Life.ipynb)"
   ]
  },
  {
   "cell_type": "markdown",
   "metadata": {},
   "source": [
    "## 参考三\n",
    "\n",
    "[这个编程问题的96种语言实现](https://rosettacode.org/wiki/Conway%27s_Game_of_Life)"
   ]
  },
  {
   "cell_type": "markdown",
   "metadata": {},
   "source": [
    "## 参考四\n",
    "\n",
    "下面的代码是启发解，虽然不是最优解，但是\n",
    "\n",
    "- 给出了算法的基本结构\n",
    "  - 计算邻居数\n",
    "  - 根据法则进化\n",
    "- 循环结构指示了计算规模"
   ]
  },
  {
   "cell_type": "code",
   "execution_count": 47,
   "metadata": {},
   "outputs": [
    {
     "name": "stdout",
     "output_type": "stream",
     "text": [
      "1000 : 1000\n",
      "5.959602000000814\n"
     ]
    }
   ],
   "source": [
    "import random as random\n",
    "import timeit\n",
    "\n",
    "# 产生一个百万0，1数组，0代表空（死），1代表生\n",
    "Z = [[random.choice([0,1]) for x in range(1000)] for y in range(1000)]\n",
    "\n",
    "print(len(Z),\":\",len(Z[0]))\n",
    "# 计算八个邻居数目\n",
    "def neighbours(Z):\n",
    "    s = len(Z), len(Z[0])\n",
    "    \n",
    "    # 一个初始全为0的邻居数量矩阵\n",
    "    N = [[0,]*(s[0]) for i in range(s[1])]\n",
    "    for x in range(1, s[0]-1):                                  # 注意边界\n",
    "        for y in range(1, s[1]-1):\n",
    "            N[x][y] = (Z[x-1][y-1] + Z[x][y-1] + Z[x+1][y-1] +  # 邻居数量=周围8个格子生命统计\n",
    "                       Z[x-1][y]               + Z[x+1][y]   +\n",
    "                       Z[x-1][y+1] + Z[x][y+1] + Z[x+1][y+1])\n",
    "    return N\n",
    "\n",
    "# 根据周围邻居总数应用规则\n",
    "def evolve(Z):\n",
    "    s = len(Z), len(Z[0])\n",
    "    N = neighbours(Z)\n",
    "    for x in range(1, s[0]-1):\n",
    "        for y in range(1, s[1]-1):\n",
    "            if Z[x][y] == 1 and (N[x][y] < 2 or N[x][y] > 3): # 灭亡规则\n",
    "                Z[x][y] = 0\n",
    "            elif Z[x][y] == 0 and N[x][y] == 3:               # 繁衍规则\n",
    "                Z[x][y] = 1\n",
    "    return Z\n",
    "\n",
    "print(timeit.timeit(lambda: evolve(Z), number=3))             # 对百万人口作三代进化，统计运算效率"
   ]
  },
  {
   "cell_type": "markdown",
   "metadata": {},
   "source": [
    "## 尝试用Numpy解"
   ]
  },
  {
   "cell_type": "code",
   "execution_count": 12,
   "metadata": {},
   "outputs": [
    {
     "name": "stdout",
     "output_type": "stream",
     "text": [
      "8.39200720000008\n"
     ]
    }
   ],
   "source": [
    "import timeit\n",
    "import numpy as np\n",
    "\n",
    "Znp = np.random.randint(2, size=(1000,1000))\n",
    "#print(Znp)\n",
    "def nextGeneration(Z):\n",
    "    neighborCount = sum(np.roll(np.roll(Z, i, 0), j, 1) for i in (-1, 0, 1) for j in (-1, 0, 1) if (i != 0 or j != 0))\n",
    "    #return (neighborCount == 3) | ((neighborCount == 1) & (neighborCount == 2)).astype(\"int8\")\n",
    "    return (neighborCount == 3) | ((neighborCount == 1) & (neighborCount == 2))\n",
    "\n",
    "def np_solver(Z):  \n",
    "    #Z = np.argwhere(nextGeneration(Z))#下一代\n",
    "    Z = np.where(nextGeneration(Z),1,0)#下一代\n",
    "    return Z # 把实现填进来\n",
    "    \n",
    "print(timeit.timeit(lambda: np_solver(Znp), number=100))"
   ]
  },
  {
   "cell_type": "code",
   "execution_count": 11,
   "metadata": {},
   "outputs": [
    {
     "name": "stdout",
     "output_type": "stream",
     "text": [
      "[[0 1 1 0 0 1 0 1 1 0]\n",
      " [0 0 1 0 0 0 1 0 0 0]\n",
      " [0 1 1 0 1 0 1 0 1 1]\n",
      " [0 0 1 1 1 0 0 1 0 0]\n",
      " [0 0 0 0 1 0 0 0 0 1]\n",
      " [0 0 0 0 0 0 0 0 0 1]\n",
      " [0 0 0 0 0 0 1 0 0 0]\n",
      " [0 0 0 0 1 0 0 0 0 0]\n",
      " [0 0 1 0 0 0 0 0 0 0]\n",
      " [0 0 0 0 1 0 0 0 0 0]]\n"
     ]
    }
   ],
   "source": [
    "t = np.random.randint(2, size=(10,10))\n",
    "print(nextGeneration(t))"
   ]
  },
  {
   "cell_type": "markdown",
   "metadata": {},
   "source": [
    "## 提示一\n",
    "\n",
    "- 使用索引[1:-1,1:-1]可以消去邻居数循环"
   ]
  },
  {
   "cell_type": "markdown",
   "metadata": {},
   "source": [
    "## 提示二\n",
    "\n",
    "- [argwhere可以帮助作规则判断](https://docs.scipy.org/doc/numpy/reference/generated/numpy.argwhere.html)"
   ]
  },
  {
   "cell_type": "markdown",
   "metadata": {},
   "source": [
    "## 提示三\n",
    "\n",
    "-[ravel是view](https://docs.scipy.org/doc/numpy/reference/generated/numpy.ravel.html)\n",
    "\n",
    "-[参考曾佑轩分享的关于Numpy性能的文章](https://zhuanlan.zhihu.com/p/28626431)\n",
    "\n",
    "-[numpy.take](https://docs.scipy.org/doc/numpy/reference/generated/numpy.take.html)\n",
    "\n",
    "-[numpy.compress](https://docs.scipy.org/doc/numpy/reference/generated/numpy.compress.html)"
   ]
  }
 ],
 "metadata": {
  "kernelspec": {
   "display_name": "Python 3",
   "language": "python",
   "name": "python3"
  },
  "language_info": {
   "codemirror_mode": {
    "name": "ipython",
    "version": 3
   },
   "file_extension": ".py",
   "mimetype": "text/x-python",
   "name": "python",
   "nbconvert_exporter": "python",
   "pygments_lexer": "ipython3",
   "version": "3.6.5"
  }
 },
 "nbformat": 4,
 "nbformat_minor": 2
}
