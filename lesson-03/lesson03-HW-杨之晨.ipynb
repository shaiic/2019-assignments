{
 "cells": [
  {
   "cell_type": "markdown",
   "metadata": {},
   "source": [
    "<center>\n",
    "    \n",
    "# 人工智能高阶人才培训班\n",
    "## 课程作业（三）"
   ]
  },
  {
   "cell_type": "markdown",
   "metadata": {},
   "source": [
    "---"
   ]
  },
  {
   "cell_type": "markdown",
   "metadata": {},
   "source": [
    "> 💥说明💥\n",
    "> 1. 本次作业最晚提交时间： **<font color='red'>2019年6月20日</font>**\n",
    "> 2. 作业中以`Q-n`标注的几个问题的答案请通过[答题页面](https://app.askform.cn/ea59efda-2266-457a-a04b-259eb06c6575.aspx?Type=2)连接的Form表格提交，提交中填写的姓名请与本人姓名保持一致；\n",
    "> 3. 以`Lesson03-HW-{你的名字英文}.ipynb`命名的作业文件请参考[文档](../How-To.md)说明提交到Git的代码仓库；\n",
    "> 4. 如果完成作业过程中，你有任何新的想法和解题思路，可以完成一篇分享文档(建议用MarkDown撰写)，将根据质量给予⭐奖励\n",
    "> 5. 🚫 **注意：** 请不要直接编辑该模板文件，建议复制该模板文件生成新的以你自己姓名命名的作业文件（`Lesson03-HW-你的名字英文.ipynb`）"
   ]
  },
  {
   "cell_type": "markdown",
   "metadata": {},
   "source": [
    "### Q1.\n",
    "你星期一去商店买4个苹果，6个香蕉和2个胡萝卜; 整个交易总额为9欧元。 周二你买3个苹果，4个香蕉，1个胡萝卜，全部7欧元。 然后周三2个苹果，8个香蕉，13个胡萝卜，2欧元。\n",
    "构造这个线性代数系统的矩阵和向量。 也就是说\n",
    "\n",
    "$$A\\begin{bmatrix} a \\\\b \\\\ c \\end{bmatrix} = \\begin{bmatrix} s_\\mathrm{Mon}  \\\\ s_\\mathrm{Tue}  \\\\  s_\\mathrm{Wed}  \\end{bmatrix}$$\n",
    "\n",
    "其中a，b，c是苹果，香蕉和胡萝卜的价格。 Smon,Stue,Swed 是当天的总花费。\n",
    "\n",
    "求a的值是多少\n"
   ]
  },
  {
   "cell_type": "code",
   "execution_count": 9,
   "metadata": {},
   "outputs": [
    {
     "name": "stdout",
     "output_type": "stream",
     "text": [
      "[ 3.  -0.5 -0. ]\n"
     ]
    }
   ],
   "source": [
    "# \n",
    "import numpy as np\n",
    "A=[[4,6,2],\n",
    "   [3,4,1],\n",
    "  [2,8,13]]\n",
    "\n",
    "s=[9,7,2]\n",
    "# 继续代码，作答\n",
    "\n",
    "A = np.array(A)\n",
    "S = np.array(s)\n",
    "print(np.round((np.linalg.inv(A) @ S),2))\n"
   ]
  },
  {
   "cell_type": "markdown",
   "metadata": {},
   "source": [
    "### Q2.计算矩阵Y的两个特征向量Y=$\\begin{bmatrix} -1 & 0 \\\\ 5 & 6 \\end{bmatrix}$\n",
    "\n",
    "\n",
    "A.$\\mathbf{v_1} = \\begin{bmatrix} 1  \\\\ 2 \\end{bmatrix}, \\mathbf {v_2} = \\begin{bmatrix}  4 \\\\ 1 \\end{bmatrix} $\n",
    "\n",
    "B.$\\mathbf{v_1} = \\begin{bmatrix} 7 \\\\ -5 \\end{bmatrix}, \\mathbf {v_2} = \\begin{bmatrix} 0 \\\\ 1 \\end{bmatrix} $\n",
    "\n",
    "C.$\\mathbf{v_1} = \\begin{bmatrix} -1  \\\\ 0 \\end{bmatrix}, \\mathbf {v_2} = \\begin{bmatrix} -5 \\\\ 4 \\end{bmatrix} $\n",
    "\n",
    "D.$\\mathbf{v_1} = \\begin{bmatrix} 3 \\\\ 1 \\end{bmatrix}, \\mathbf {v_2} = \\begin{bmatrix} -1 \\\\ 1 \\end{bmatrix} $\n",
    "\n"
   ]
  },
  {
   "cell_type": "code",
   "execution_count": 15,
   "metadata": {},
   "outputs": [
    {
     "name": "stdout",
     "output_type": "stream",
     "text": [
      "[-7  5]\n",
      "[0 6]\n"
     ]
    }
   ],
   "source": [
    "# 在此回答问题\n",
    "import numpy as np\n",
    "y = np.array([[-1,0],[5,6]])\n",
    "\n",
    "print(y @ np.array([7,-5]))\n",
    "print(y @ np.array([0,1]))\n"
   ]
  },
  {
   "cell_type": "markdown",
   "metadata": {},
   "source": [
    "### **Q3.小明有一副残缺不全的扑克牌，这副牌已经从原本的52张牌变成了只剩下30张牌了（不含大小王），但是少了哪些牌小明不清楚，但是按照小明自己的统计，随机从这副牌堆抽出一张牌：**\n",
    "- 是梅花♣(C)且是偶数（E）的概率是$\\frac{1}{10}$， \n",
    "- 而花色是方块♦(D)且是偶数（E）的概率为$\\frac{4}{15}$, \n",
    "- 而花色是心💗（H）且是偶数（E）的概率为$\\frac{2}{15}$,\n",
    "- 花色是黑桃♠（S）且为偶数的概率为$\\frac{1}{15}$.\n",
    "\n",
    "请问，从小明这副牌随机抽取一张，这张牌点数为奇数的概率为多少？（假设A为1点，J为11点，Q为12点，K为13点）\n",
    "\n",
    "> (空格內填入答案即可，請勿填入计算过程或是单位，答案请保留两位小数)"
   ]
  },
  {
   "cell_type": "markdown",
   "metadata": {},
   "source": [
    ">"
   ]
  },
  {
   "cell_type": "code",
   "execution_count": 22,
   "metadata": {},
   "outputs": [
    {
     "name": "stdout",
     "output_type": "stream",
     "text": [
      "0.43333333333333335\n"
     ]
    }
   ],
   "source": [
    "# 在此编写代码回答问题\n",
    "#\n",
    "#sum_club_even：是梅花且为偶数得纸牌个数\n",
    "#sum_club：是梅花得纸牌个数\n",
    "#Sum：总纸牌数 = 30\n",
    "#(sum_club_even/sum_club)*(sum_club/Sum) = sum_club_even/Sum = 1/10\n",
    "#(sum_club_even + sum_diamond_even + sum_heart_even + sum_spade_even) = sum_even：是纸牌中为偶数得纸牌个数\n",
    "#(sum_club_even + sum_diamond_even + sum_heart_even + sum_spade_even)/Sum = 1/10 + 4/15 + 2/15 +1/15\n",
    "#sum_even/Sum：是纸牌中偶数纸牌得概率\n",
    "p_even = 1/10 +4/15 + 2/15 + 1/15\n",
    "print(1-p_even)\n"
   ]
  },
  {
   "cell_type": "markdown",
   "metadata": {},
   "source": []
  },
  {
   "cell_type": "markdown",
   "metadata": {},
   "source": [
    "### **Q4. 承接上一题，小明的扑克牌的情景，请问下列答案哪个公式是正确的?**\n",
    "(单选, 结果取四舍五入之后值)\n",
    "- A.  $ P(D | E) = 0.47 $\n",
    "- B.  $P(\\overline{C}\\cap E )=0.9 $\n",
    "- C. $P(C\\cap \\overline{E}) = 0.9$\n",
    "- D. $P(\\overline{S}\\cap E)=\\frac{11}{15}$"
   ]
  },
  {
   "cell_type": "code",
   "execution_count": 24,
   "metadata": {},
   "outputs": [
    {
     "name": "stdout",
     "output_type": "stream",
     "text": [
      "0.47058823529411764\n"
     ]
    }
   ],
   "source": [
    "# 在此回答问题\n",
    "#\n",
    "p_Even_diamond = (4/15) / p_even\n",
    "print(P_Even_diamond)"
   ]
  },
  {
   "cell_type": "markdown",
   "metadata": {},
   "source": [
    "### **Q5.**\n",
    "条件概率的一大应用就是在医学疾病检测，假设有一疾病只要病患确诊，这病患三个月内的死亡概率将会是90%， 但是人群中只有1%的人确定患有此疾病。而如今开发出一套检验方式可以针对此疾病做出检验，根据检验结果是阳性或是阴性可以判断是否感染上此疾病。阳性就是出现罹患此疾病会有的现象，阴性反之。但是这套检验方法却不是百分之百准确，因为有些环境或是其它疾病会让健康人检验也可能呈现阳性，假设这种状况的概率为0.2%；同时实际上患有此疾病但是却因为一些环境或体质差异也有可能检验出阴性，假设这样的概率为0.1%。某天，小明担心自己患上此疾病，于是前往医院进行这种检验，结果检验结果为阳性，请帮小明分析，他没有感染此疾病的概率为多少？\n",
    "> (空格內填入答案即可，答案四舍五入，保留两位小数)\n",
    "\n"
   ]
  },
  {
   "cell_type": "code",
   "execution_count": 26,
   "metadata": {},
   "outputs": [],
   "source": [
    "# 在此回答问题\n",
    "#设样本总数为S，则患病人数为Sa\n",
    "#\n"
   ]
  },
  {
   "cell_type": "code",
   "execution_count": null,
   "metadata": {},
   "outputs": [],
   "source": []
  }
 ],
 "metadata": {
  "anaconda-cloud": {},
  "kernelspec": {
   "display_name": "Python 3",
   "language": "python",
   "name": "python3"
  },
  "language_info": {
   "codemirror_mode": {
    "name": "ipython",
    "version": 3
   },
   "file_extension": ".py",
   "mimetype": "text/x-python",
   "name": "python",
   "nbconvert_exporter": "python",
   "pygments_lexer": "ipython3",
   "version": "3.7.3"
  },
  "toc-autonumbering": false,
  "toc-showcode": false,
  "toc-showmarkdowntxt": false,
  "toc-showtags": false
 },
 "nbformat": 4,
 "nbformat_minor": 2
}
