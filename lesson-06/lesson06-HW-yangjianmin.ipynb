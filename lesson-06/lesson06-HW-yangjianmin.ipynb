{
 "cells": [
  {
   "cell_type": "markdown",
   "metadata": {},
   "source": [
    "## 作业1 用5次多项式拟合正弦曲线\n",
    "- 代码\n",
    "- Loss 值图\n",
    "- 拟合图结果\n",
    "- 打印输出最后10行"
   ]
  },
  {
   "cell_type": "code",
   "execution_count": null,
   "metadata": {},
   "outputs": [],
   "source": [
    "import numpy as np\n",
    "import matplotlib.pyplot as plt\n",
    "\n",
    "from HelperClass.NeuralNet import *\n",
    "from HelperClass.SimpleDataReader import *\n",
    "from HelperClass.HyperParameters import *\n",
    "\n",
    "file_name = \"../../data/ch08.train.npz\"\n",
    "\n",
    "class DataReaderEx(SimpleDataReader):\n",
    "    def Add(self):\n",
    "        X = self.XTrain[:,]**2\n",
    "        self.XTrain = np.hstack((self.XTrain, X))\n",
    "        X = self.XTrain[:,0:1]**3\n",
    "        self.XTrain = np.hstack((self.XTrain, X))\n",
    "        X = self.XTrain[:,0:1]**4\n",
    "        self.XTrain = np.hstack((self.XTrain, X))\n",
    "        X = self.XTrain[:,0:1]**5\n",
    "        self.XTrain = np.hstack((self.XTrain, X))\n",
    "\n",
    "\n",
    "def ShowResult(net, dataReader, title):\n",
    "    # draw train data\n",
    "    X,Y = dataReader.XTrain, dataReader.YTrain\n",
    "    plt.plot(X[:,0], Y[:,0], '.', c='b')\n",
    "    # create and draw visualized validation data\n",
    "    TX1 = np.linspace(0,1,100).reshape(100,1)\n",
    "    TX = np.hstack((TX1, TX1[:,]**2))\n",
    "    TX = np.hstack((TX, TX1[:,]**3))\n",
    "    TX = np.hstack((TX, TX1[:,]**4))\n",
    "    TX = np.hstack((TX, TX1[:,]**5))\n",
    "\n",
    "    TY = net.inference(TX)\n",
    "    plt.plot(TX1, TY, 'x', c='r')\n",
    "    plt.title(title)\n",
    "    plt.show()\n",
    "#end def\n",
    "\n",
    "if __name__ == '__main__':\n",
    "    dataReader = DataReaderEx(file_name)\n",
    "    dataReader.ReadData()\n",
    "    dataReader.Add()\n",
    "    print(dataReader.XTrain.shape)\n",
    "\n",
    "    # net\n",
    "    num_input = 5\n",
    "    num_output = 1\n",
    "    params = HyperParameters(num_input, num_output, eta=0.2, max_epoch=10000, batch_size=10, eps=0.005, net_type=NetType.Fitting)\n",
    "    net = NeuralNet(params)\n",
    "    net.train(dataReader, checkpoint=10)\n",
    "    ShowResult(net, dataReader, params.toString())"
   ]
  },
  {
   "cell_type": "markdown",
   "metadata": {},
   "source": [
    "### Loss 值图\n",
    "![jupyter](yangjianmin/hm-yjm-1.png)"
   ]
  },
  {
   "cell_type": "markdown",
   "metadata": {},
   "source": [
    "### 拟合图结果\n",
    "![jupyter](yangjianmin/hm-yjm-2.png)"
   ]
  },
  {
   "cell_type": "markdown",
   "metadata": {},
   "source": [
    "### 打印输出最后10行\n",
    "![jupyter](yangjianmin/hm-yjm-3.png)"
   ]
  },
  {
   "cell_type": "markdown",
   "metadata": {},
   "source": [
    "## 作业2 参数调优\n",
    "使用下列参数设置，找到批次大小和学习率的关系\n",
    "\n",
    "- 隐藏层神经元：4\n",
    "- 批次大小选择： 2,5,10,15\n",
    "- 学习率选择：0.1,0.3,0.5,0.7\n",
    "\n",
    "#### 得到下列表格："
   ]
  },
  {
   "cell_type": "markdown",
   "metadata": {},
   "source": [
    "![jupyter](yangjianmin/hm-yjm-4.png)"
   ]
  },
  {
   "cell_type": "code",
   "execution_count": null,
   "metadata": {},
   "outputs": [],
   "source": []
  }
 ],
 "metadata": {
  "kernelspec": {
   "display_name": "Python 3",
   "language": "python",
   "name": "python3"
  },
  "language_info": {
   "codemirror_mode": {
    "name": "ipython",
    "version": 3
   },
   "file_extension": ".py",
   "mimetype": "text/x-python",
   "name": "python",
   "nbconvert_exporter": "python",
   "pygments_lexer": "ipython3",
   "version": "3.6.5"
  }
 },
 "nbformat": 4,
 "nbformat_minor": 2
}
