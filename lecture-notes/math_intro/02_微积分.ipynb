{
 "cells": [
  {
   "cell_type": "code",
   "execution_count": 2,
   "metadata": {
    "slideshow": {
     "slide_type": "skip"
    }
   },
   "outputs": [],
   "source": [
    "from IPython.core.interactiveshell import InteractiveShell\n",
    "InteractiveShell.ast_node_interactivity = \"last_expr\"\n",
    "import numpy as np\n",
    "from matplotlib import pyplot as plt"
   ]
  },
  {
   "cell_type": "markdown",
   "metadata": {
    "slideshow": {
     "slide_type": "slide"
    }
   },
   "source": [
    "# 变化率\n",
    "\n",
    "\n",
    "对于函数 ${y = f(x)}$ 定义变化率为：\n",
    "\n",
    "$$ roc = \\frac{\\Delta{y}}{\\Delta{x}}  $$\n",
    "\n",
    "代入函数曲线上的两点，可以计算 ${m}$ ：\n",
    "\n",
    "\\begin{equation}roc = \\frac{f(x_{2}) - f(x_{1})}{x_{2} - x_{1}} \\end{equation}\n",
    "\n",
    "例如 ${f(x) = x^{2} + x}$"
   ]
  },
  {
   "cell_type": "code",
   "execution_count": 6,
   "metadata": {
    "slideshow": {
     "slide_type": "subslide"
    }
   },
   "outputs": [
    {
     "data": {
      "image/png": "[encoded data removed]",
      "text/plain": [
       "<Figure size 432x288 with 1 Axes>"
      ]
     },
     "metadata": {
      "needs_background": "light"
     },
     "output_type": "display_data"
    }
   ],
   "source": [
    "%matplotlib inline\n",
    "def f(x):\n",
    "    return (x)**2 + x\n",
    "\n",
    "x = np.array(range(0, 11))\n",
    "y = np.array([0,10])\n",
    "\n",
    "plt.xlabel('x')\n",
    "plt.ylabel('y')\n",
    "plt.grid()\n",
    "\n",
    "plt.plot(x, f(x), color='g')\n",
    "plt.plot(y, f(y), color='m')\n",
    "\n",
    "plt.show()"
   ]
  },
  {
   "cell_type": "markdown",
   "metadata": {
    "slideshow": {
     "slide_type": "slide"
    }
   },
   "source": [
    "# 极限\n",
    "\n",
    "例：\n",
    "\\begin{equation}\\lim_{x \\to 5} f(x)\\end{equation}\n",
    "\n"
   ]
  },
  {
   "cell_type": "code",
   "execution_count": 4,
   "metadata": {
    "slideshow": {
     "slide_type": "subslide"
    }
   },
   "outputs": [
    {
     "data": {
      "application/vnd.jupyter.widget-view+json": {
       "model_id": "",
       "version_major": 2,
       "version_minor": 0
      },
      "text/plain": [
       "FigureCanvasNbAgg()"
      ]
     },
     "metadata": {},
     "output_type": "display_data"
    }
   ],
   "source": [
    "%matplotlib widget\n",
    "x = [*range(0,5), *np.arange(4.25, 6, 0.25), *range(6, 11)]\n",
    "y = [f(i) for i in x] \n",
    "\n",
    "plt.xlabel('x')\n",
    "plt.ylabel('f(x)')\n",
    "plt.grid()\n",
    "\n",
    "plt.plot(x,y, color='lightgrey', marker='o', markeredgecolor='green', markerfacecolor='green')\n",
    "plt.plot(5, f(5), color='red', marker='o', markersize=10)\n",
    "plt.plot(5.25, f(5.25), color='blue', marker='<', markersize=10)\n",
    "plt.plot(4.75, f(4.75), color='orange', marker='>', markersize=10)\n",
    "plt.show()"
   ]
  },
  {
   "cell_type": "markdown",
   "metadata": {
    "slideshow": {
     "slide_type": "subslide"
    }
   },
   "source": [
    "##  连续性\n",
    "\n",
    "对函数 ${g(x) = -(\\frac{12}{2x})^{2},\\;\\; x \\ne 0}$ 画出图形\n"
   ]
  },
  {
   "cell_type": "code",
   "execution_count": 7,
   "metadata": {
    "scrolled": false,
    "slideshow": {
     "slide_type": "subslide"
    }
   },
   "outputs": [
    {
     "data": {
      "application/vnd.jupyter.widget-view+json": {
       "model_id": "",
       "version_major": 2,
       "version_minor": 0
      },
      "text/plain": [
       "FigureCanvasNbAgg()"
      ]
     },
     "metadata": {},
     "output_type": "display_data"
    }
   ],
   "source": [
    "%matplotlib widget\n",
    "def g(x):\n",
    "    if x != 0:\n",
    "        return -(12/(2*x))**2\n",
    "x = range(-20, 21)\n",
    "y = [g(a) for a in x]\n",
    "plt.xlabel('x')\n",
    "plt.ylabel('g(x)')\n",
    "plt.grid()\n",
    "plt.plot(x,y, color='g')\n",
    "xy = (0,g(1))\n",
    "plt.annotate('O',xy, xytext=(-0.7, -37),fontsize=14,color='b')\n",
    "plt.show()"
   ]
  },
  {
   "cell_type": "markdown",
   "metadata": {
    "slideshow": {
     "slide_type": "subslide"
    }
   },
   "source": [
    "函数 ${h(x) = 2\\sqrt{x},\\;\\; x \\ge 0}$ 是不连续的。"
   ]
  },
  {
   "cell_type": "code",
   "execution_count": 5,
   "metadata": {
    "slideshow": {
     "slide_type": "subslide"
    }
   },
   "outputs": [
    {
     "data": {
      "image/png": "[encoded data removed]",
      "text/plain": [
       "<Figure size 432x288 with 1 Axes>"
      ]
     },
     "metadata": {
      "needs_background": "light"
     },
     "output_type": "display_data"
    }
   ],
   "source": [
    "%matplotlib inline\n",
    "def h(x):\n",
    "    if x >= 0:\n",
    "        import numpy as np\n",
    "        return 2 * np.sqrt(x)\n",
    "\n",
    "x = range(-20, 21)\n",
    "y = [h(a) for a in x]\n",
    "\n",
    "plt.xlabel('x')\n",
    "plt.ylabel('h(x)')\n",
    "plt.grid()\n",
    "\n",
    "plt.plot(x,y, color='g')\n",
    "plt.plot(0, h(0), color='g', marker='o', markerfacecolor='g', markersize=10)\n",
    "\n",
    "plt.show()"
   ]
  },
  {
   "cell_type": "markdown",
   "metadata": {
    "slideshow": {
     "slide_type": "subslide"
    }
   },
   "source": [
    "函数 ${\n",
    "k(x) = \\begin{cases}\n",
    "  x + 20, & \\text{if } x \\le 0, \\\\\n",
    "  x - 100, & \\text{otherwise }\\end{cases}}$ 是不连续的。"
   ]
  },
  {
   "cell_type": "code",
   "execution_count": 6,
   "metadata": {
    "slideshow": {
     "slide_type": "subslide"
    }
   },
   "outputs": [
    {
     "data": {
      "image/png": "[encoded data removed]",
      "text/plain": [
       "<Figure size 432x288 with 1 Axes>"
      ]
     },
     "metadata": {
      "needs_background": "light"
     },
     "output_type": "display_data"
    }
   ],
   "source": [
    "def k(x):\n",
    "    import numpy as np\n",
    "    if x <= 0:\n",
    "        return x + 20\n",
    "    else:\n",
    "        return x - 100\n",
    "\n",
    "x1 = range(-20, 1)\n",
    "x2 = range(1, 20)\n",
    "y1 = [k(i) for i in x1]\n",
    "y2 = [k(i) for i in x2]\n",
    "\n",
    "plt.xlabel('x')\n",
    "plt.ylabel('k(x)')\n",
    "plt.grid()\n",
    "plt.plot(x1,y1, color='g')\n",
    "plt.plot(x2,y2, color='g')\n",
    "plt.plot(0, k(0), color='g', marker='o', markerfacecolor='g', markersize=10)\n",
    "plt.plot(0, k(0.0001), color='g', marker='o', markerfacecolor='w', markersize=10)\n",
    "\n",
    "plt.show()"
   ]
  },
  {
   "cell_type": "markdown",
   "metadata": {
    "slideshow": {
     "slide_type": "subslide"
    }
   },
   "source": [
    "### 无穷\n",
    "\n",
    "对 \n",
    "$$d(x) = \\frac{4}{x - 25},\\;\\; x \\ne 25$$\n",
    "\n",
    "当 ${x \\to 25}$ 时:"
   ]
  },
  {
   "cell_type": "code",
   "execution_count": 7,
   "metadata": {
    "scrolled": true,
    "slideshow": {
     "slide_type": "subslide"
    }
   },
   "outputs": [
    {
     "data": {
      "image/png": "[encoded data removed]",
      "text/plain": [
       "<Figure size 432x288 with 1 Axes>"
      ]
     },
     "metadata": {
      "needs_background": "light"
     },
     "output_type": "display_data"
    }
   ],
   "source": [
    "def d(x):\n",
    "    if x != 25:\n",
    "        return 4 / (x - 25)\n",
    "\n",
    "x = [*range(-100, 24), *np.arange(24.9, 25.2, 0.1), *range(26, 101)]\n",
    "y = [d(i) for i in x]\n",
    "\n",
    "plt.xlabel('x')\n",
    "plt.ylabel('d(x)')\n",
    "plt.grid()\n",
    "\n",
    "plt.plot(x,y, color='purple')\n",
    "plt.show()"
   ]
  },
  {
   "cell_type": "markdown",
   "metadata": {
    "collapsed": true,
    "slideshow": {
     "slide_type": "subslide"
    }
   },
   "source": [
    "\\begin{equation}\\lim_{x \\to 25^{+}} d(x) = \\infty \\end{equation}\n",
    "\n",
    "\\begin{equation}\\lim_{x \\to 25^{-}} d(x) = -\\infty \\end{equation}"
   ]
  },
  {
   "cell_type": "markdown",
   "metadata": {
    "slideshow": {
     "slide_type": "subslide"
    }
   },
   "source": [
    "对函数 ${e(x) = \\begin{cases}\n",
    "  5, & \\text{if } x = 0, \\\\\n",
    "  1 + x^{2}, & \\text{otherwise }\n",
    "\\end{cases}}$ 求 ${{x\\to0}}$ 时的极限：\n",
    "\n",
    "$$\\lim_{x \\to 0} a(x) \\ne a(0) $$\n",
    "\n",
    "$$\\lim_{x \\to 0} a(x) = 1 $$"
   ]
  },
  {
   "cell_type": "code",
   "execution_count": 8,
   "metadata": {
    "slideshow": {
     "slide_type": "subslide"
    }
   },
   "outputs": [
    {
     "data": {
      "image/png": "[encoded data removed]",
      "text/plain": [
       "<Figure size 432x288 with 1 Axes>"
      ]
     },
     "metadata": {
      "needs_background": "light"
     },
     "output_type": "display_data"
    }
   ],
   "source": [
    "def e(x):\n",
    "    if x == 0:\n",
    "        return 5\n",
    "    else:\n",
    "        return 1 + x**2\n",
    "x= [-1, -0.5, -0.2, -0.1, -0.01, 0.01, 0.1, 0.2, 0.5, 1]\n",
    "y =[e(i) for i in x]\n",
    "plt.xlabel('x')\n",
    "plt.ylabel('e(x)')\n",
    "plt.grid()\n",
    "plt.plot(x, y, color='m')\n",
    "plt.scatter(0, e(0), color='m')\n",
    "plt.plot(0, 1, color='m', marker='o', markerfacecolor='w', markersize=10)\n",
    "plt.show()"
   ]
  },
  {
   "cell_type": "markdown",
   "metadata": {
    "collapsed": true,
    "slideshow": {
     "slide_type": "subslide"
    }
   },
   "source": [
    "对函数 \n",
    "\n",
    "$$g(x) = \\frac{x^{2} - 1}{x - 1}, x \\ne 1$$\n",
    "\n",
    "求 ${x \\to 1}$ 时的极限：\n",
    "\n",
    "\\begin{equation}\\lim_{x \\to a} g(x) = \\frac{(x-1)(x+1)}{x - 1}\\end{equation}\n",
    "\n",
    "\\begin{equation}\\lim_{x \\to a} g(x)= x+1\\end{equation}\n",
    "\n",
    "\\begin{equation}\\lim_{x \\to 1} g(x) = 2\\end{equation}"
   ]
  },
  {
   "cell_type": "markdown",
   "metadata": {
    "slideshow": {
     "slide_type": "subslide"
    }
   },
   "source": [
    "类似的，对函数\n",
    "\n",
    "\\begin{equation}h(x) = \\frac{\\sqrt{x} - 2}{x - 4}, x \\ne 4 \\text{ and } x \\ge 0\\end{equation}\n",
    "\n",
    "求 ${x \\to 4}$ 时的极限:\n",
    "\n",
    "\\begin{equation}\\lim_{x \\to a}h(x) = \\frac{1}{{\\sqrt{x} + 2}}\\end{equation}\n",
    "\n",
    "\n",
    "\\begin{equation}\\lim_{x \\to 4}h(x) = \\frac{1}{{\\sqrt{4} + 2}} = \\frac{1}{4}\\end{equation}"
   ]
  },
  {
   "cell_type": "markdown",
   "metadata": {
    "slideshow": {
     "slide_type": "subslide"
    }
   },
   "source": [
    "## 极限的算术运算\n",
    "\n",
    "\\begin{equation}\\lim_{x \\to a} (j(x) + l(x)) = \\lim_{x \\to a} j(x) + \\lim_{x \\to a} l(x)\\end{equation}\n",
    "\n",
    "\\begin{equation}\\lim_{x \\to a} (j(x) - l(x)) = \\lim_{x \\to a} j(x) - \\lim_{x \\to a} l(x)\\end{equation}\n",
    "\n",
    "\\begin{equation}\\lim_{x \\to a} (j(x) \\cdot l(x)) = \\lim_{x \\to a} j(x) \\cdot \\lim_{x \\to a} l(x)\\end{equation}\n",
    "\n",
    "\\begin{equation}\\lim_{x \\to a} \\frac{j(x)}{l(x)} = \\frac{\\lim_{x \\to a} j(x) }{\\lim_{x \\to a} l(x) }\\end{equation}\n",
    "\n",
    "\\begin{equation}\\lim_{x \\to a} (j(x))^{n} = \\Big(\\lim_{x \\to a} j(x)\\Big)^{n}\\end{equation}"
   ]
  },
  {
   "cell_type": "markdown",
   "metadata": {
    "slideshow": {
     "slide_type": "slide"
    }
   },
   "source": [
    "## 微分和求导\n",
    "\n",
    "- 导函数的定义：\n",
    "\n",
    "\\begin{equation}\\lim_{h \\to 0} \\frac{f(x + h) - f(x)}{h} \\end{equation}\n",
    "\n",
    "\\begin{equation}f'(x) = \\lim_{h \\to 0} \\frac{f(x + h) - f(x)}{h} \\end{equation}\n",
    "\n",
    "\\begin{equation}\\frac{d}{dx}f(x) = \\lim_{h \\to 0} \\frac{f(x + h) - f(x)}{h} \\end{equation}"
   ]
  },
  {
   "cell_type": "markdown",
   "metadata": {
    "slideshow": {
     "slide_type": "subslide"
    }
   },
   "source": [
    "#### 导函数也可记为\n",
    "\n",
    "\\begin{equation}f'(\\textbf{a}) = \\lim_{h \\to 0} \\frac{f(\\textbf{a} + h) - f(\\textbf{a})}{h} \\Leftrightarrow f'(a) = \\lim_{x \\to a} \\frac{f(x) - f(a)}{x - a} \\end{equation}"
   ]
  },
  {
   "cell_type": "markdown",
   "metadata": {
    "slideshow": {
     "slide_type": "subslide"
    }
   },
   "source": [
    "### 求导数 （根据定义）\n",
    "\n",
    "\\begin{equation}f(x) = x^{2} + x\\end{equation}\n",
    "\n",
    "\\begin{equation}f'(a) = \\lim_{h \\to 0} \\frac{f(a + h) - f(a)}{h} \\end{equation}\n",
    "\n",
    "\\begin{equation}f'(\\textbf{2}) = \\lim_{h \\to 0} \\frac{f(\\textbf{2} + h) - f(\\textbf{2})}{h} \\end{equation}\n",
    "\n",
    "\\begin{equation}f'(2) = \\lim_{h \\to 0} \\frac{((2+h)^{2} + 2 + h) - (2^{2} + 2)}{h} \\end{equation}\n",
    "\n",
    "\\begin{equation}f'(2) = \\lim_{h \\to 0} \\frac{(h^{2} + 5h + 6) - 6}{h} = \\lim_{h \\to 0} \\frac{h^{2} + 5h}{h}  = \\lim_{h \\to 0} h + 5 = 5\\end{equation}"
   ]
  },
  {
   "cell_type": "code",
   "execution_count": 8,
   "metadata": {
    "slideshow": {
     "slide_type": "subslide"
    }
   },
   "outputs": [
    {
     "data": {
      "application/vnd.jupyter.widget-view+json": {
       "model_id": "",
       "version_major": 2,
       "version_minor": 0
      },
      "text/plain": [
       "FigureCanvasNbAgg()"
      ]
     },
     "metadata": {},
     "output_type": "display_data"
    }
   ],
   "source": [
    "%matplotlib widget\n",
    "def f(x):\n",
    "    return x**2 + x\n",
    "\n",
    "x = list(range(0, 11))\n",
    "y = [f(i) for i in x]\n",
    "\n",
    "x1 = 2\n",
    "y1 = f(x1)\n",
    "\n",
    "m = 5\n",
    "\n",
    "plt.xlabel('x')\n",
    "plt.ylabel('f(x)')\n",
    "plt.grid()\n",
    "\n",
    "plt.plot(x,y, color='green')\n",
    "plt.scatter(x1,y1, c='red')\n",
    "plt.annotate('(x,f(x))',(x1,y1), xytext=(x1-0.5, y1+3))\n",
    "\n",
    "xMin = x1 - 5\n",
    "yMin = y1 - (5*m)\n",
    "xMax = x1 + 5\n",
    "yMax = y1 + (5*m)\n",
    "plt.plot([xMin,xMax],[yMin,yMax], color='magenta')\n",
    "\n",
    "plt.show()"
   ]
  },
  {
   "cell_type": "markdown",
   "metadata": {
    "slideshow": {
     "slide_type": "subslide"
    }
   },
   "source": [
    "### 求导函数\n",
    "\n",
    "\\begin{equation}f'(x) = \\lim_{h \\to 0} \\frac{f(x + h) - f(x)}{h} \\end{equation}\n",
    "\n",
    "\\begin{equation}f'(x) = \\lim_{h \\to 0} \\frac{((x+h)^{2} + x + h) - (x^{2} + x)}{h} \\end{equation}\n",
    "\n",
    "\\begin{equation}f'(x) = \\lim_{h \\to 0} \\frac{x^{2} + h^{2} + 2xh + x + h - x^{2} - x}{h} \\end{equation}\n",
    "\n",
    "\\begin{equation}f'(x) = \\lim_{h \\to 0} \\frac{h^{2} + 2xh + h}{h} \\end{equation}\n",
    "\n",
    "\\begin{equation}f'(x) = \\lim_{h \\to 0} 2x + h + 1 \\end{equation}\n",
    "\n",
    "\\begin{equation}f'(x) = 2x + 1 \\end{equation}"
   ]
  },
  {
   "cell_type": "markdown",
   "metadata": {
    "slideshow": {
     "slide_type": "slide"
    }
   },
   "source": [
    "## 可微\n",
    "\n",
    "并不是所有的函数都是可以求导函数的。\n",
    "\n",
    "可微的函数有下面的几何特征\n",
    "- 连续\n",
    "- 切线不竖直\n",
    "- 光滑\n",
    "\n",
    "\n",
    "\\begin{equation}\n",
    "q(x) = \\begin{cases}\n",
    "  \\frac{40,000}{x^{2}}, & \\text{if } x < -4, \\\\\n",
    "  (x^{2} -2) \\cdot (x - 1), & \\text{if } x \\ne 0 \\text{ and } x \\ge -4 \\text{ and } x < 8, \\\\\n",
    "  (x^{2} -2), & \\text{if } x \\ne 0 \\text{ and } x \\ge 8\n",
    "\\end{cases}\n",
    "\\end{equation}"
   ]
  },
  {
   "cell_type": "code",
   "execution_count": 10,
   "metadata": {
    "slideshow": {
     "slide_type": "subslide"
    }
   },
   "outputs": [
    {
     "data": {
      "image/png": "[encoded data removed]",
      "text/plain": [
       "<Figure size 432x288 with 1 Axes>"
      ]
     },
     "metadata": {
      "needs_background": "light"
     },
     "output_type": "display_data"
    }
   ],
   "source": [
    "%matplotlib inline\n",
    "\n",
    "def q(x):\n",
    "    if x != 0:\n",
    "        if x < -4:\n",
    "            return 40000 / (x**2)\n",
    "        elif x < 8:\n",
    "            return (x**2 - 2) * x - 1\n",
    "        else:\n",
    "            return (x**2 - 2)\n",
    "\n",
    "x = [*range(-10, -5), -4.01]\n",
    "x2 = [*range(-4, 8), 7.9999, *range(8, 11)]\n",
    "\n",
    "y = [q(i) for i in x]\n",
    "y2 = [q(i) for i in x2]\n",
    "\n",
    "plt.xlabel('x')\n",
    "plt.ylabel('q(x)')\n",
    "plt.grid()\n",
    "\n",
    "plt.plot(x,y, color='purple')\n",
    "plt.plot(x2,y2, color='purple')\n",
    "plt.scatter(-4,q(-4), c='red')\n",
    "plt.annotate('A (x= -4)',(-5,q(-3.9)), xytext=(-7, q(-3.9)))\n",
    "plt.scatter(0,0, c='red')\n",
    "plt.annotate('B (x= 0)',(0,0), xytext=(-1, 40))\n",
    "plt.scatter(8,q(8), c='red')\n",
    "plt.annotate('C (x= 8)',(8,q(8)), xytext=(8, 100))\n",
    "\n",
    "plt.show()"
   ]
  },
  {
   "cell_type": "markdown",
   "metadata": {
    "collapsed": true,
    "slideshow": {
     "slide_type": "subslide"
    }
   },
   "source": [
    "- A不连续\n",
    "- B不连续\n",
    "- C不光滑"
   ]
  },
  {
   "cell_type": "markdown",
   "metadata": {
    "slideshow": {
     "slide_type": "slide"
    }
   },
   "source": [
    "## 求导规则\n",
    "\n",
    "### 基本规则\n",
    "\\begin{equation}f(x) = \\pi \\;\\; \\therefore \\;\\; f'(x) = 0 \\end{equation}\n",
    "    \n",
    "\\begin{equation}f(x) = 2g(x) \\;\\; \\therefore \\;\\; f'(x) = 2g'(x) \\end{equation}\n",
    "\n",
    "\\begin{equation}f(x) = g(x) + h(x) \\;\\; \\therefore \\;\\; f'(x) = g'(x) + h'(x) \\end{equation}\n",
    "\n",
    "\\begin{equation}f(x) = k(x) - l(x) \\;\\; \\therefore \\;\\; f'(x) = k'(x) - l'(x) \\end{equation}\n",
    "\n",
    "\\begin{equation}\\frac{d}{dx}(2x + 6) = \\frac{d}{dx} 2x +  \\frac{d}{dx} 6 = 2\\end{equation}"
   ]
  },
  {
   "cell_type": "markdown",
   "metadata": {
    "slideshow": {
     "slide_type": "subslide"
    }
   },
   "source": [
    "### 幂规则\n",
    "> 极其常用的规则\n",
    "\\begin{equation}f(x) = x^{n} \\;\\; \\therefore \\;\\; f'(x) = nx^{n-1}\\end{equation}\n",
    "\n",
    "例如：\n",
    "\n",
    "\\begin{equation}f(x) = x^{3} \\;\\; \\therefore \\;\\; f'(x) = 3x^{2}\\end{equation}\n",
    "\n",
    "\\begin{equation}f(x) = x^{-2} \\;\\; \\therefore \\;\\; f'(x) = -2x^{-3}\\end{equation}\n",
    "\n",
    "\\begin{equation}f(x) = x^{2} \\;\\; \\therefore \\;\\; f'(x) = 2x\\end{equation}"
   ]
  },
  {
   "cell_type": "markdown",
   "metadata": {
    "slideshow": {
     "slide_type": "subslide"
    }
   },
   "source": [
    "### 幂规则的推导\n",
    "\n",
    "\\begin{equation}f(x) = x^{2}\\end{equation}\n",
    "\n",
    "\\begin{equation}f'(x) = \\lim_{h \\to 0} \\frac{f(x + h) - f(x)}{h} \\end{equation}\n",
    "\n",
    "\\begin{equation}f'(x) = \\lim_{h \\to 0} \\frac{(x + h)^{2} - x^{2}}{h} \\end{equation}\n",
    "\n",
    "\\begin{equation}f'(x) = \\lim_{h \\to 0} \\frac{x^{2} + h^{2} + 2xh - x^{2}}{h} = \\lim_{h \\to 0} \\frac{h^{2} + 2xh}{h} = \\lim_{h \\to 0} h + 2x = 2x\\end{equation}"
   ]
  },
  {
   "cell_type": "markdown",
   "metadata": {
    "slideshow": {
     "slide_type": "subslide"
    }
   },
   "source": [
    "### 乘法规则\n",
    "\n",
    "\\begin{equation}\\frac{d}{dx}[f(x)g(x)] = f'(x)g(x) + f(x)g'(x) \\end{equation}\n",
    "\n",
    "例如\n",
    "\n",
    "\\begin{equation}f(x) = 2x^{2} \\end{equation}\n",
    "\n",
    "\\begin{equation}g(x) = x + 1 \\end{equation}\n",
    "\n",
    "\\begin{equation}f'(x) = 4x \\end{equation}\n",
    "\n",
    "\\begin{equation}g'(x) = 1 \\end{equation}\n",
    "\n",
    "\\begin{equation}\\frac{d}{dx}[f(x)g(x)] = (4x \\cdot (x + 1)) + (2x^{2} \\cdot 1) \\end{equation}\n",
    "\n",
    "\\begin{equation}\\frac{d}{dx}[f(x)g(x)] = 6x^{2} + 4x \\end{equation}"
   ]
  },
  {
   "cell_type": "markdown",
   "metadata": {
    "slideshow": {
     "slide_type": "subslide"
    }
   },
   "source": [
    "### 商数规则\n",
    "\\begin{equation}r(x) = \\frac{s(x)}{t(x)} \\end{equation}\n",
    "\n",
    "\\begin{equation}r'(x) = \\frac{s'(x)t(x) - s(x)t'(x)}{（t(x)）^{2}} \\end{equation}\n",
    "\n",
    "例如\n",
    "\n",
    "\\begin{equation}s(x) = 3x^{2} \\end{equation}\n",
    "\n",
    "\\begin{equation}t(x) = 2x\\end{equation}\n",
    "\n",
    "\\begin{equation}r'(x) = \\frac{(6x \\cdot 2x) - (3x^{2} \\cdot 2)}{（2x）^{2}} = \\frac{6x^{2}}{4x^{2}} = \\frac{3}{2}\\end{equation}"
   ]
  },
  {
   "cell_type": "markdown",
   "metadata": {
    "slideshow": {
     "slide_type": "subslide"
    }
   },
   "source": [
    "### 链式规则 \n",
    "\n",
    "\\begin{equation}\\frac{d}{dx}[o(i(x))] = o'(i(x)) \\cdot i'(x)\\end{equation}\n",
    "\n",
    "例如\n",
    "\n",
    "\\begin{equation}i(x) = x^{2} \\end{equation}\n",
    "\n",
    "\\begin{equation}o(x) = 2x \\end{equation}\n",
    "\n",
    "\\begin{equation}o'(x) = 2,  i'(x) = 2x\\end{equation}\n",
    "\n",
    "\\begin{equation}\\frac{d}{dx}[o(i(x))] = 4x\\end{equation}"
   ]
  },
  {
   "cell_type": "markdown",
   "metadata": {
    "slideshow": {
     "slide_type": "slide"
    }
   },
   "source": [
    "# 极值和优化\n",
    "\n",
    "对函数${k(x) = -10x^{2} + 100x + 3}$ 有导函数：\n",
    "\n",
    "\\begin{equation}k'(x) = -20x + 100 \\end{equation}"
   ]
  },
  {
   "cell_type": "code",
   "execution_count": 11,
   "metadata": {
    "scrolled": false,
    "slideshow": {
     "slide_type": "subslide"
    }
   },
   "outputs": [
    {
     "data": {
      "image/png": "[encoded data removed]",
      "text/plain": [
       "<Figure size 432x288 with 1 Axes>"
      ]
     },
     "metadata": {
      "needs_background": "light"
     },
     "output_type": "display_data"
    }
   ],
   "source": [
    "%matplotlib inline\n",
    "\n",
    "def k(x):\n",
    "    return -10*(x**2) + (100*x)  + 3\n",
    "\n",
    "def kd(x):\n",
    "    return -20*x + 100\n",
    "\n",
    "x = list(range(0, 11))\n",
    "y = [k(i) for i in x]\n",
    "\n",
    "yd = [kd(i) for i in x]\n",
    "\n",
    "plt.axhline()\n",
    "plt.axvline()\n",
    "plt.xlabel('x (time in seconds)')\n",
    "plt.ylabel('k(x) (height in feet)')\n",
    "plt.xticks(range(0,15, 1))\n",
    "plt.yticks(range(-200, 500, 20))\n",
    "plt.grid()\n",
    "\n",
    "plt.plot(x,y, color='green')\n",
    "\n",
    "plt.plot(x,yd, color='purple')\n",
    "\n",
    "x1 = 2\n",
    "x2 = 5\n",
    "x3 = 8\n",
    "plt.plot([x1-1,x1+1],[k(x1)-(kd(x1)),k(x1)+(kd(x1))], color='r')\n",
    "plt.plot([x2-1,x2+1],[k(x2)-(kd(x2)),k(x2)+(kd(x2))], color='r')\n",
    "plt.plot([x3-1,x3+1],[k(x3)-(kd(x3)),k(x3)+(kd(x3))], color='r')\n",
    "\n",
    "plt.show()"
   ]
  },
  {
   "cell_type": "markdown",
   "metadata": {
    "slideshow": {
     "slide_type": "subslide"
    }
   },
   "source": [
    "## 找最大值和最小值\n",
    "\n",
    "对 ${k(x) = -10x^{2} + 100x + 3}$ 有 ${k'(x) = -20x + 100 }$\n",
    "\n",
    "\\begin{equation}-20x + 100 = 0 \\end{equation}\n",
    "\n",
    "\\begin{equation}x = 5 \\end{equation}\n",
    "\n",
    "如果求二阶导数\n",
    "\n",
    "\\begin{equation}k'(x) = -20x + 100 \\Rightarrow k''(x) = -20\\end{equation}\n",
    "\n",
    "根据二阶导数为常量，而且是负常量，得知一阶导函数是线性下降的。导函数为0的点就是极大值。"
   ]
  },
  {
   "cell_type": "markdown",
   "metadata": {
    "slideshow": {
     "slide_type": "subslide"
    }
   },
   "source": [
    "函数\n",
    "\\begin{equation}w(x) = x^{2} + 2x + 7 \\end{equation}"
   ]
  },
  {
   "cell_type": "code",
   "execution_count": 9,
   "metadata": {
    "scrolled": false,
    "slideshow": {
     "slide_type": "subslide"
    }
   },
   "outputs": [
    {
     "data": {
      "application/vnd.jupyter.widget-view+json": {
       "model_id": "",
       "version_major": 2,
       "version_minor": 0
      },
      "text/plain": [
       "FigureCanvasNbAgg()"
      ]
     },
     "metadata": {},
     "output_type": "display_data"
    }
   ],
   "source": [
    "%matplotlib widget\n",
    "\n",
    "def w(x):\n",
    "    return (x**2) + (2*x) + 7\n",
    "\n",
    "def wd(x):\n",
    "    return 2*x + 2\n",
    "\n",
    "x = list(range(-10, 11))\n",
    "y = [w(i) for i in x]\n",
    "\n",
    "yd = [wd(i) for i in x]\n",
    "\n",
    "plt.axhline()\n",
    "plt.axvline()\n",
    "plt.xlabel('x')\n",
    "plt.ylabel('w(x)')\n",
    "plt.xticks(range(-10,15, 1))\n",
    "plt.yticks(range(-200, 500, 20))\n",
    "plt.grid()\n",
    "\n",
    "plt.plot(x,y, color='g')\n",
    "plt.plot(x,yd, color='m')\n",
    "plt.show()"
   ]
  },
  {
   "cell_type": "markdown",
   "metadata": {
    "slideshow": {
     "slide_type": "subslide"
    }
   },
   "source": [
    "## 极值点\n",
    "\n",
    "对函数\n",
    "\\begin{equation}v(x) = x^{3} - 2x + 100 \\end{equation}"
   ]
  },
  {
   "cell_type": "code",
   "execution_count": 10,
   "metadata": {
    "scrolled": false,
    "slideshow": {
     "slide_type": "subslide"
    }
   },
   "outputs": [
    {
     "data": {
      "application/vnd.jupyter.widget-view+json": {
       "model_id": "",
       "version_major": 2,
       "version_minor": 0
      },
      "text/plain": [
       "FigureCanvasNbAgg()"
      ]
     },
     "metadata": {},
     "output_type": "display_data"
    }
   ],
   "source": [
    "%matplotlib widget\n",
    "\n",
    "def v(x):\n",
    "    return (x**3) - (2*x) + 100\n",
    "\n",
    "def vd(x):\n",
    "    return 3*(x**2) - 2\n",
    "\n",
    "x = list(range(-10, 11))\n",
    "y = [v(i) for i in x]\n",
    "\n",
    "yd = [vd(i) for i in x]\n",
    "\n",
    "plt.axhline()\n",
    "plt.axvline()\n",
    "plt.xlabel('x')\n",
    "plt.ylabel('v(x)')\n",
    "plt.xticks(range(-10,15, 1))\n",
    "plt.yticks(range(-1000, 2000, 100))\n",
    "plt.grid()\n",
    "plt.plot(x,y, color='g')\n",
    "plt.plot(x,yd, color='m')\n",
    "plt.show()"
   ]
  },
  {
   "cell_type": "code",
   "execution_count": 14,
   "metadata": {
    "scrolled": false,
    "slideshow": {
     "slide_type": "subslide"
    }
   },
   "outputs": [
    {
     "data": {
      "image/png": "[encoded data removed]",
      "text/plain": [
       "<Figure size 432x288 with 1 Axes>"
      ]
     },
     "metadata": {
      "needs_background": "light"
     },
     "output_type": "display_data"
    }
   ],
   "source": [
    "%matplotlib inline\n",
    "\n",
    "def k(x):\n",
    "    return -10*(x**2) + (100*x)  + 3\n",
    "\n",
    "def kd(x):\n",
    "    return -20*x + 100\n",
    "\n",
    "def k2d(x):\n",
    "    return -20\n",
    "\n",
    "plt.axhline()\n",
    "plt.axvline()\n",
    "x = list(range(0, 11))\n",
    "y = [k(i) for i in x]\n",
    "yd = [kd(i) for i in x]\n",
    "y2d = [k2d(i) for i in x]\n",
    "\n",
    "plt.xlabel('x')\n",
    "plt.ylabel('k(x)')\n",
    "plt.xticks(range(0,15, 1))\n",
    "plt.yticks(range(-200, 500, 20))\n",
    "plt.grid()\n",
    "plt.plot(x,y, color='g')\n",
    "plt.plot(x,yd, color='r')\n",
    "plt.plot(x,y2d, color='b')\n",
    "\n",
    "plt.show()"
   ]
  },
  {
   "cell_type": "markdown",
   "metadata": {
    "slideshow": {
     "slide_type": "subslide"
    }
   },
   "source": [
    "练习：\n",
    "\n",
    "\\begin{equation}w(x) = x^{2} + 2x + 7 \\end{equation}"
   ]
  },
  {
   "cell_type": "code",
   "execution_count": 11,
   "metadata": {
    "scrolled": false,
    "slideshow": {
     "slide_type": "subslide"
    }
   },
   "outputs": [
    {
     "data": {
      "application/vnd.jupyter.widget-view+json": {
       "model_id": "",
       "version_major": 2,
       "version_minor": 0
      },
      "text/plain": [
       "FigureCanvasNbAgg()"
      ]
     },
     "metadata": {},
     "output_type": "display_data"
    }
   ],
   "source": [
    "%matplotlib widget\n",
    "\n",
    "def w(x):\n",
    "    return (x**2) + (2*x) + 7\n",
    "\n",
    "def wd(x):\n",
    "    return 2*x + 2\n",
    "\n",
    "def w2d(x):\n",
    "    return 2\n",
    "\n",
    "x = list(range(-10, 11))\n",
    "y = [w(i) for i in x]\n",
    "yd = [wd(i) for i in x]\n",
    "y2d = [w2d(i) for i in x]\n",
    "\n",
    "plt.axhline()\n",
    "plt.axvline()\n",
    "plt.xlabel('x (time in days)')\n",
    "plt.ylabel('w(x) (flowers)')\n",
    "plt.xticks(range(-10,15, 1))\n",
    "plt.yticks(range(-200, 500, 20))\n",
    "plt.grid()\n",
    "plt.plot(x,y, color='green')\n",
    "plt.plot(x,yd, color='purple')\n",
    "plt.plot(x,y2d, color='magenta')\n",
    "\n",
    "plt.show()"
   ]
  },
  {
   "cell_type": "markdown",
   "metadata": {
    "slideshow": {
     "slide_type": "subslide"
    }
   },
   "source": [
    "## 极值点不一定是最大值或者最小值\n",
    " \n",
    "\\begin{equation}v(x) = x^{3} - 6x^{2} + 12x + 2 \\end{equation}\n",
    " \n",
    "\\begin{equation}v'(x) = 3x^{2} - 12x + 12 = 0\\end{equation}\n",
    " \n",
    "${x = 2}$ 是极值点"
   ]
  },
  {
   "cell_type": "code",
   "execution_count": 16,
   "metadata": {
    "scrolled": false,
    "slideshow": {
     "slide_type": "subslide"
    }
   },
   "outputs": [
    {
     "data": {
      "image/png": "[encoded data removed]",
      "text/plain": [
       "<Figure size 432x288 with 1 Axes>"
      ]
     },
     "metadata": {
      "needs_background": "light"
     },
     "output_type": "display_data"
    },
    {
     "name": "stdout",
     "output_type": "stream",
     "text": [
      "v(2) = 10\n",
      "v'(2) = 0\n",
      "v''(2) = 0\n"
     ]
    }
   ],
   "source": [
    "%matplotlib inline\n",
    "\n",
    "def v(x):\n",
    "    return (x**3) - (6*(x**2)) + (12*x) + 2\n",
    "\n",
    "def vd(x):\n",
    "    return (3*(x**2)) - (12*x) + 12\n",
    "\n",
    "def v2d(x):\n",
    "    return (3*(2*x)) - 12\n",
    "\n",
    "from matplotlib import pyplot as plt\n",
    "\n",
    "x = list(range(-5, 11))\n",
    "y = [v(i) for i in x]\n",
    "yd = [vd(i) for i in x]\n",
    "y2d = [v2d(i) for i in x]\n",
    "\n",
    "\n",
    "plt.xlabel('x')\n",
    "plt.ylabel('v(x)')\n",
    "plt.xticks(range(-10,15, 1))\n",
    "plt.yticks(range(-2000, 2000, 50))\n",
    "plt.grid()\n",
    "\n",
    "plt.plot(x,y, color='green')\n",
    "plt.plot(x,yd, color='purple')\n",
    "plt.plot(x,y2d, color='magenta')\n",
    "plt.show()\n",
    "\n",
    "print (\"v(2) = \" + str(v(2)))\n",
    "\n",
    "print (\"v'(2) = \" + str(vd(2)))\n",
    "\n",
    "print (\"v''(2) = \" + str(v2d(2)))\n"
   ]
  },
  {
   "cell_type": "markdown",
   "metadata": {
    "slideshow": {
     "slide_type": "subslide"
    }
   },
   "source": [
    "## 优化算法\n",
    "\n",
    "- 求一阶导数\n",
    "- 求极值\n",
    "- 求二阶导数检查是否为最大值"
   ]
  },
  {
   "cell_type": "markdown",
   "metadata": {
    "slideshow": {
     "slide_type": "subslide"
    }
   },
   "source": [
    "# 偏微分\n",
    "\n",
    "对多变量函数\n",
    "\n",
    "$$f(x,y) = x^2 + y^2$$\n",
    "\n",
    "对于变量x, 定义\n",
    "\n",
    "$$\\frac{\\partial f(x,y)}{\\partial x} = \\frac{\\partial (x^2 + y^2)}{\\partial x}$$\n",
    "\n",
    "$$\\frac{\\partial x^2}{\\partial x} = 2x，\\;\\;\\; \\frac{\\partial y^2}{\\partial x} = 0$$\n",
    "\n",
    "$$\\frac{\\partial f(x,y)}{\\partial x} = 2x + 0 = 2x$$"
   ]
  },
  {
   "cell_type": "markdown",
   "metadata": {
    "slideshow": {
     "slide_type": "subslide"
    }
   },
   "source": [
    "对于变量y\n",
    "\n",
    "$$\\frac{\\partial f(x,y)}{\\partial y} = 0 + 2y = 2y$$"
   ]
  },
  {
   "cell_type": "markdown",
   "metadata": {
    "collapsed": true,
    "slideshow": {
     "slide_type": "slide"
    }
   },
   "source": [
    "## 计算梯度\n",
    "\n",
    "> 梯度是多唯曲面的切面\n",
    "\n",
    "$$\\frac{\\partial f(x,y)}{\\partial x} = 2x \\\\\n",
    "\\frac{\\partial f(x,y)}{\\partial y} = 2y$$\n",
    "\n",
    "梯度向量：\n",
    "$$grad(f(x,y)) =  \\vec{g(x,y)} = \\begin{bmatrix}\\frac{\\partial f(x,y)}{\\partial x} \\\\ \\frac{\\partial f(x,y)}{\\partial y} \\end{bmatrix} = \\begin{bmatrix}2x \\\\ 2y \\end{bmatrix} $$"
   ]
  },
  {
   "cell_type": "code",
   "execution_count": 17,
   "metadata": {
    "scrolled": false,
    "slideshow": {
     "slide_type": "subslide"
    }
   },
   "outputs": [
    {
     "data": {
      "text/plain": [
       "<matplotlib.contour.QuadContourSet at 0x7f18dc517400>"
      ]
     },
     "execution_count": 17,
     "metadata": {},
     "output_type": "execute_result"
    },
    {
     "data": {
      "image/png": "[encoded data removed]",
      "text/plain": [
       "<Figure size 432x288 with 1 Axes>"
      ]
     },
     "metadata": {
      "needs_background": "light"
     },
     "output_type": "display_data"
    }
   ],
   "source": [
    "%matplotlib inline\n",
    "import matplotlib.pyplot as plt\n",
    "import numpy as np\n",
    "import math\n",
    "\n",
    "el = np.arange(-5,6)\n",
    "nx, ny = np.meshgrid(el, el, sparse=False, indexing='ij')\n",
    "\n",
    "x_coord = []\n",
    "y_coord = []\n",
    "z = []\n",
    "for i in range(11):  \n",
    "    for j in range(11):\n",
    "        x_coord.append(float(-nx[i,j]))\n",
    "        y_coord.append(float(-ny[i,j]))       \n",
    "        z.append(nx[i,j]**2 + ny[i,j]**2)\n",
    "\n",
    "x_grad = [-2 * x for x in x_coord]\n",
    "y_grad = [-2 * y for y in y_coord] \n",
    "\n",
    "plt.xlim(-5.5,5.5)\n",
    "plt.ylim(-5.5,5.5)\n",
    "for x, y, xg, yg in zip(list(x_coord), list(y_coord), list(x_grad), list(y_grad)):\n",
    "    if x != 0.0 or y != 0.0: ## Avoid the zero divide when scaling the arrow\n",
    "        l = math.sqrt(xg**2 + yg**2)/2.0\n",
    "        plt.quiver(x, y, xg, yg, width = l, units = 'dots')\n",
    "\n",
    "z = np.array(z).reshape(11,11)    \n",
    "plt.contour(el, el, z)    "
   ]
  },
  {
   "cell_type": "markdown",
   "metadata": {
    "collapsed": true,
    "slideshow": {
     "slide_type": "subslide"
    }
   },
   "source": [
    "图例\n",
    "- 箭头是梯度方向\n",
    "- 箭头宽度代表大小\n",
    "- 梯度方向是垂直于曲面的\n"
   ]
  },
  {
   "cell_type": "markdown",
   "metadata": {
    "collapsed": true,
    "slideshow": {
     "slide_type": "subslide"
    }
   },
   "source": [
    "## 梯度下降算法\n",
    "\n",
    "1. 从一个起点开始。\n",
    "2. 计算这点的梯度。\n",
    "3. 沿着梯度方向探索一步。\n",
    "4. 判断梯度是否接近零，如果是，停止。\n",
    "5. 否则，从第2步继续。"
   ]
  },
  {
   "cell_type": "markdown",
   "metadata": {
    "slideshow": {
     "slide_type": "slide"
    }
   },
   "source": [
    "# 积分\n",
    "\n",
    "对函数 ${f(x)=x}$ 有：\n",
    "\n",
    "$$\\int f(x)\\;dx = \\frac{1}{2} x^2$$\n",
    "\n",
    "$$\\int_0^2 f(x)\\;dx = \\frac{1}{2} x^2\\ \\big|_0^2 = \\frac{4}{2} - \\frac{0}{2} = 2$$"
   ]
  },
  {
   "cell_type": "code",
   "execution_count": 17,
   "metadata": {
    "slideshow": {
     "slide_type": "subslide"
    }
   },
   "outputs": [
    {
     "data": {
      "image/png": "[encoded data removed]",
      "text/plain": [
       "<Figure size 432x288 with 1 Axes>"
      ]
     },
     "metadata": {
      "needs_background": "light"
     },
     "output_type": "display_data"
    }
   ],
   "source": [
    "%matplotlib inline\n",
    "plt.xlabel('x')\n",
    "plt.ylabel('f(x)')\n",
    "plt.grid()\n",
    "\n",
    "def f(x):\n",
    "    return x\n",
    "\n",
    "x = range(0, 11)\n",
    "y = [f(a) for a in x]\n",
    "\n",
    "plt.plot(x,y, color='purple')\n",
    "\n",
    "section = np.arange(0, 2, 1/20)\n",
    "plt.fill_between(section,f(section), color='orange')\n",
    "\n",
    "plt.show()"
   ]
  },
  {
   "cell_type": "code",
   "execution_count": 15,
   "metadata": {
    "slideshow": {
     "slide_type": "subslide"
    }
   },
   "outputs": [
    {
     "name": "stdout",
     "output_type": "stream",
     "text": [
      "2.0\n"
     ]
    }
   ],
   "source": [
    "import scipy.integrate as integrate\n",
    "i, e = integrate.quad(f, 0, 2)\n",
    "print (i)"
   ]
  },
  {
   "cell_type": "markdown",
   "metadata": {
    "slideshow": {
     "slide_type": "subslide"
    }
   },
   "source": [
    "$$\\int_0^3 3x^2 + 2x + 1\\;dx = \\frac{3}{3} x^3 + \\frac{2}{2} x^2 + x\\ \\big|_0^3 \n",
    "= 27 + 9 + 3 + 0 + 0 + 0\n",
    "= 39$$ "
   ]
  },
  {
   "cell_type": "code",
   "execution_count": 18,
   "metadata": {
    "slideshow": {
     "slide_type": "subslide"
    }
   },
   "outputs": [
    {
     "data": {
      "image/png": "[encoded data removed]",
      "text/plain": [
       "<Figure size 432x288 with 1 Axes>"
      ]
     },
     "metadata": {
      "needs_background": "light"
     },
     "output_type": "display_data"
    }
   ],
   "source": [
    "from matplotlib.patches import Polygon\n",
    "\n",
    "def g(x):\n",
    "    return 3 * x**2 + 2 * x + 1\n",
    "\n",
    "x = range(0, 11)\n",
    "y = [g(a) for a in x]\n",
    "\n",
    "fig, ax = plt.subplots()\n",
    "plt.xlabel('x')\n",
    "plt.ylabel('f(x)')\n",
    "plt.grid()\n",
    "\n",
    "plt.plot(x,y, color='purple')\n",
    "ix = np.linspace(0, 3)\n",
    "iy = g(ix)\n",
    "verts = [(0, 0)] + list(zip(ix, iy)) + [(3, 0)]\n",
    "poly = Polygon(verts, facecolor='orange')\n",
    "ax.add_patch(poly)\n",
    "\n",
    "plt.show()"
   ]
  },
  {
   "cell_type": "code",
   "execution_count": 21,
   "metadata": {
    "slideshow": {
     "slide_type": "subslide"
    }
   },
   "outputs": [
    {
     "name": "stdout",
     "output_type": "stream",
     "text": [
      "38.99999999999999\n",
      "4.3298697960381095e-13\n"
     ]
    }
   ],
   "source": [
    "i, e = integrate.quad(lambda x: 3 * x**2 + 2 * x + 1, 0, 3)\n",
    "print(i)\n",
    "print(e)"
   ]
  },
  {
   "cell_type": "markdown",
   "metadata": {
    "slideshow": {
     "slide_type": "subslide"
    }
   },
   "source": [
    "$$\\int^{\\infty}_0 e^{-5x} dx$$"
   ]
  },
  {
   "cell_type": "code",
   "execution_count": 19,
   "metadata": {
    "slideshow": {
     "slide_type": "subslide"
    }
   },
   "outputs": [
    {
     "name": "stdout",
     "output_type": "stream",
     "text": [
      "Integral: 0.20000000000000007\n",
      "Absolute Error: 1.560666811361375e-11\n"
     ]
    }
   ],
   "source": [
    "import numpy as np\n",
    "i, e = integrate.quad(lambda x: np.exp(-x*5), 0, np.inf)\n",
    "\n",
    "print('Integral: ' + str(i))\n",
    "print('Absolute Error: ' + str(e))"
   ]
  },
  {
   "cell_type": "markdown",
   "metadata": {
    "slideshow": {
     "slide_type": "subslide"
    }
   },
   "source": [
    "[normal distribution density](https://www.wolframalpha.com/input/?i=normal+distribution)\n",
    "$$\\int_{-\\infty}^{\\infty} \\frac{1}{\\sqrt{2 \\pi}}e^{\\frac{-x^2}{2}} dx = 1$$"
   ]
  },
  {
   "cell_type": "code",
   "execution_count": 20,
   "metadata": {
    "slideshow": {
     "slide_type": "subslide"
    }
   },
   "outputs": [
    {
     "name": "stdout",
     "output_type": "stream",
     "text": [
      "Integral: 1.0000004223321999\n",
      "Absolute Error: 1.0178195684846592e-08\n"
     ]
    }
   ],
   "source": [
    "import numpy as np\n",
    "norms = lambda x: np.exp(-x**2/2.0)/np.sqrt(2.0 * 3.14159)\n",
    "i, e = integrate.quad(norms, -np.inf, np.inf)\n",
    "\n",
    "print('Integral: ' + str(i))\n",
    "print('Absolute Error: ' + str(e))"
   ]
  },
  {
   "cell_type": "markdown",
   "metadata": {
    "slideshow": {
     "slide_type": "subslide"
    }
   },
   "source": [
    "[PI](http://bazhou.blob.core.windows.net/learning/mpp/Why_is_pi_here_And_why_is_it_squared_A_geometric_answer_to_the_Basel_problem-d-o3eB9sfls.mp4)"
   ]
  },
  {
   "cell_type": "markdown",
   "metadata": {},
   "source": [
    " https://github.com/shaiic/2019-assignments/blob/master/How-To.md"
   ]
  }
 ],
 "metadata": {
  "anaconda-cloud": {},
  "celltoolbar": "Slideshow",
  "kernelspec": {
   "display_name": "Python 3",
   "language": "python",
   "name": "python3"
  },
  "language_info": {
   "codemirror_mode": {
    "name": "ipython",
    "version": 3
   },
   "file_extension": ".py",
   "mimetype": "text/x-python",
   "name": "python",
   "nbconvert_exporter": "python",
   "pygments_lexer": "ipython3",
   "version": "3.6.5"
  }
 },
 "nbformat": 4,
 "nbformat_minor": 2
}
